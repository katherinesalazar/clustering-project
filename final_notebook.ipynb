{
 "cells": [
  {
   "cell_type": "markdown",
   "metadata": {},
   "source": [
    "# Zillow: What is driving the errors in the Zestimates?"
   ]
  },
  {
   "cell_type": "markdown",
   "metadata": {},
   "source": [
    "The Zillow Data Science Team wants to understand what is driving the errors in the zestimates?\n",
    "- Data Scope:\n",
    "    - 2017 properties\n",
    "    - Single units / Single family homes"
   ]
  },
  {
   "cell_type": "markdown",
   "metadata": {},
   "source": [
    "---"
   ]
  },
  {
   "cell_type": "markdown",
   "metadata": {},
   "source": [
    "# Planning\n",
    "- Agile Kanban: \n",
    "    - https://trello.com/b/aM5Pet9d/zillow-clustering-project\n",
    "<br /> \n",
    "<br /> \n",
    "- The Zillow Data Science team would like to know:\n",
    "    - **What is driving the errors (logerror) Zestimate in single unit properties?**\n",
    "\n",
    "<br />\n",
    "\n",
    "- Project Objectives:\n",
    "    - See if bathroomcnt, bedroomcnt and calculatedfinishedsquarefeet are features which drive the error (logerror) Zestimate in single unit properties\n",
    "    - Documenting process and analysis throughout the data science pipeline.\n",
    "    - Constructing a clustered regression model that predicts the error (logerror) for Zestimates.\n",
    "<br /> \n",
    "<br /> \n",
    "\n",
    "**Hypothesis:**\n",
    "- $H$0 There is not a correlation between zestimate logerror with the following features: bathroomcnt, bedroomcnt and calculatedfinishedsquarefeet.\n",
    "- $H$A There a correlation between between zestimate logerror with the following features: bathroomcnt, bedroomcnt and calculatedfinishedsquarefeet.\n",
    "\n",
    "---"
   ]
  },
  {
   "cell_type": "code",
   "execution_count": 1,
   "metadata": {},
   "outputs": [],
   "source": [
    "# imports for libraries\n",
    "import os\n",
    "import numpy as np\n",
    "import pandas as pd\n",
    "import seaborn as sns\n",
    "import scipy.stats as stats\n",
    "import matplotlib.pyplot as plt\n",
    "\n",
    "# imports from env file for credentials\n",
    "from env import user, host, password\n",
    "\n",
    "# sklearn imports\n",
    "from sklearn.cluster import KMeans\n",
    "from sklearn.impute import SimpleImputer\n",
    "#from sklearn.preprocessing import MinMaxScaler\n",
    "from sklearn.preprocessing import StandardScaler\n",
    "from sklearn.model_selection import train_test_split\n",
    "\n",
    "\n",
    "# evaluating/modeling methods\n",
    "import math\n",
    "from math import sqrt\n",
    "from math import pi\n",
    "from sklearn.metrics import mean_squared_error, r2_score, explained_variance_score\n",
    "from sklearn.feature_selection import SelectKBest, f_regression\n",
    "from sklearn.feature_selection import RFE\n",
    "from sklearn.linear_model import LinearRegression, LassoLars, TweedieRegressor\n",
    "from sklearn.preprocessing import PolynomialFeatures\n",
    "\n",
    "\n",
    "# imports from files\n",
    "import acquire\n",
    "import prepare\n",
    "from prepare import Min_Max_Scaler\n",
    "\n",
    "# ignore the warnings\n",
    "import warnings\n",
    "warnings.filterwarnings(\"ignore\")\n",
    "\n",
    "# supress scientific notation\n",
    "np.set_printoptions(suppress=True)\n",
    "\n",
    "# only have 2 decimal points for any calculations\n",
    "pd.options.display.float_format = '{:,.2f}'.format \n",
    "#%precision %.2f"
   ]
  },
  {
   "cell_type": "markdown",
   "metadata": {},
   "source": [
    "---"
   ]
  },
  {
   "cell_type": "markdown",
   "metadata": {},
   "source": [
    "# Acquire\n",
    "- Obtained the Zillow data from the SQL database utilizing the following query for 2017 single unit / single family home properties: \n",
    "\n",
    "\n",
    "<br /> \n",
    "select prop.parcelid\n",
    "        , pred.logerror\n",
    "        , bathroomcnt\n",
    "        , bedroomcnt\n",
    "        , calculatedfinishedsquarefeet\n",
    "        , fips\n",
    "        , latitude\n",
    "        , longitude\n",
    "        , lotsizesquarefeet\n",
    "        , regionidcity\n",
    "        , regionidcounty\n",
    "        , regionidzip\n",
    "        , yearbuilt\n",
    "        , structuretaxvaluedollarcnt\n",
    "        , taxvaluedollarcnt\n",
    "        , landtaxvaluedollarcnt\n",
    "        , taxamount\n",
    "    from properties_2017 prop\n",
    "    inner join predictions_2017 pred on prop.parcelid = pred.parcelid\n",
    "    where propertylandusetypeid = 261;  \n",
    "<br /> \n",
    "\n",
    "\n",
    "   - Refer to acquire.py, def get_zillow_data for more details \n",
    "   - Refer to final_prepare_explore.ipynb for further acquire details"
   ]
  },
  {
   "cell_type": "markdown",
   "metadata": {},
   "source": [
    "---"
   ]
  },
  {
   "cell_type": "markdown",
   "metadata": {},
   "source": [
    "# Prepare\n",
    "- Within the final_prepare_explore.ipynb the following was done on the data for the final prepare and explore file: \n",
    "    - Drop all observations with one or more missing values:\n",
    "        - df.dropna(inplace=True)\n",
    "            - We dropped 1529 rows from the inital dataframe   \n",
    "    <br />\n",
    "    - We dropped any null values with 0\n",
    "        - df = df.fillna(0)\n",
    "    - Removed outlies: \n",
    "        - From the prepare.py file used function, 'remove_outliers()'\n",
    "        - Removed outliers in bed, bath, zip, square feet, acres & tax rate\n",
    "    <br />\n",
    "    - Created a CSV file to model with:\n",
    "        - df.to_csv('final_prepare_explore.csv')"
   ]
  },
  {
   "cell_type": "code",
   "execution_count": 2,
   "metadata": {},
   "outputs": [
    {
     "data": {
      "text/html": [
       "<div>\n",
       "<style scoped>\n",
       "    .dataframe tbody tr th:only-of-type {\n",
       "        vertical-align: middle;\n",
       "    }\n",
       "\n",
       "    .dataframe tbody tr th {\n",
       "        vertical-align: top;\n",
       "    }\n",
       "\n",
       "    .dataframe thead th {\n",
       "        text-align: right;\n",
       "    }\n",
       "</style>\n",
       "<table border=\"1\" class=\"dataframe\">\n",
       "  <thead>\n",
       "    <tr style=\"text-align: right;\">\n",
       "      <th></th>\n",
       "      <th>Unnamed: 0</th>\n",
       "      <th>parcelid</th>\n",
       "      <th>logerror</th>\n",
       "      <th>bathroomcnt</th>\n",
       "      <th>bedroomcnt</th>\n",
       "      <th>calculatedfinishedsquarefeet</th>\n",
       "      <th>fips</th>\n",
       "      <th>latitude</th>\n",
       "      <th>longitude</th>\n",
       "      <th>lotsizesquarefeet</th>\n",
       "      <th>regionidcity</th>\n",
       "      <th>regionidcounty</th>\n",
       "      <th>regionidzip</th>\n",
       "      <th>yearbuilt</th>\n",
       "      <th>structuretaxvaluedollarcnt</th>\n",
       "      <th>taxvaluedollarcnt</th>\n",
       "      <th>landtaxvaluedollarcnt</th>\n",
       "      <th>taxamount</th>\n",
       "      <th>cluster</th>\n",
       "    </tr>\n",
       "  </thead>\n",
       "  <tbody>\n",
       "    <tr>\n",
       "      <th>0</th>\n",
       "      <td>0</td>\n",
       "      <td>14297519</td>\n",
       "      <td>0.03</td>\n",
       "      <td>3.50</td>\n",
       "      <td>4.00</td>\n",
       "      <td>3,100.00</td>\n",
       "      <td>6,059.00</td>\n",
       "      <td>33,634,931.00</td>\n",
       "      <td>-117,869,207.00</td>\n",
       "      <td>4,506.00</td>\n",
       "      <td>53,571.00</td>\n",
       "      <td>1,286.00</td>\n",
       "      <td>96,978.00</td>\n",
       "      <td>1,998.00</td>\n",
       "      <td>485,713.00</td>\n",
       "      <td>1,023,282.00</td>\n",
       "      <td>537,569.00</td>\n",
       "      <td>11,013.72</td>\n",
       "      <td>cluster_1</td>\n",
       "    </tr>\n",
       "    <tr>\n",
       "      <th>1</th>\n",
       "      <td>1</td>\n",
       "      <td>17052889</td>\n",
       "      <td>0.06</td>\n",
       "      <td>1.00</td>\n",
       "      <td>2.00</td>\n",
       "      <td>1,465.00</td>\n",
       "      <td>6,111.00</td>\n",
       "      <td>34,449,266.00</td>\n",
       "      <td>-119,281,531.00</td>\n",
       "      <td>12,647.00</td>\n",
       "      <td>13,091.00</td>\n",
       "      <td>2,061.00</td>\n",
       "      <td>97,099.00</td>\n",
       "      <td>1,967.00</td>\n",
       "      <td>88,000.00</td>\n",
       "      <td>464,000.00</td>\n",
       "      <td>376,000.00</td>\n",
       "      <td>5,672.48</td>\n",
       "      <td>cluster_0</td>\n",
       "    </tr>\n",
       "    <tr>\n",
       "      <th>2</th>\n",
       "      <td>2</td>\n",
       "      <td>14186244</td>\n",
       "      <td>0.01</td>\n",
       "      <td>2.00</td>\n",
       "      <td>3.00</td>\n",
       "      <td>1,243.00</td>\n",
       "      <td>6,059.00</td>\n",
       "      <td>33,886,168.00</td>\n",
       "      <td>-117,823,170.00</td>\n",
       "      <td>8,432.00</td>\n",
       "      <td>21,412.00</td>\n",
       "      <td>1,286.00</td>\n",
       "      <td>97,078.00</td>\n",
       "      <td>1,962.00</td>\n",
       "      <td>85,289.00</td>\n",
       "      <td>564,778.00</td>\n",
       "      <td>479,489.00</td>\n",
       "      <td>6,488.30</td>\n",
       "      <td>cluster_0</td>\n",
       "    </tr>\n",
       "    <tr>\n",
       "      <th>3</th>\n",
       "      <td>3</td>\n",
       "      <td>12177905</td>\n",
       "      <td>-0.10</td>\n",
       "      <td>3.00</td>\n",
       "      <td>4.00</td>\n",
       "      <td>2,376.00</td>\n",
       "      <td>6,037.00</td>\n",
       "      <td>34,245,180.00</td>\n",
       "      <td>-118,240,722.00</td>\n",
       "      <td>13,038.00</td>\n",
       "      <td>396,551.00</td>\n",
       "      <td>3,101.00</td>\n",
       "      <td>96,330.00</td>\n",
       "      <td>1,970.00</td>\n",
       "      <td>108,918.00</td>\n",
       "      <td>145,143.00</td>\n",
       "      <td>36,225.00</td>\n",
       "      <td>1,777.51</td>\n",
       "      <td>cluster_1</td>\n",
       "    </tr>\n",
       "    <tr>\n",
       "      <th>4</th>\n",
       "      <td>4</td>\n",
       "      <td>12095076</td>\n",
       "      <td>-0.00</td>\n",
       "      <td>3.00</td>\n",
       "      <td>4.00</td>\n",
       "      <td>2,962.00</td>\n",
       "      <td>6,037.00</td>\n",
       "      <td>34,145,202.00</td>\n",
       "      <td>-118,179,824.00</td>\n",
       "      <td>63,000.00</td>\n",
       "      <td>47,019.00</td>\n",
       "      <td>3,101.00</td>\n",
       "      <td>96,293.00</td>\n",
       "      <td>1,950.00</td>\n",
       "      <td>276,684.00</td>\n",
       "      <td>773,303.00</td>\n",
       "      <td>496,619.00</td>\n",
       "      <td>9,516.26</td>\n",
       "      <td>cluster_1</td>\n",
       "    </tr>\n",
       "  </tbody>\n",
       "</table>\n",
       "</div>"
      ],
      "text/plain": [
       "   Unnamed: 0  parcelid  logerror  bathroomcnt  bedroomcnt  \\\n",
       "0           0  14297519      0.03         3.50        4.00   \n",
       "1           1  17052889      0.06         1.00        2.00   \n",
       "2           2  14186244      0.01         2.00        3.00   \n",
       "3           3  12177905     -0.10         3.00        4.00   \n",
       "4           4  12095076     -0.00         3.00        4.00   \n",
       "\n",
       "   calculatedfinishedsquarefeet     fips      latitude       longitude  \\\n",
       "0                      3,100.00 6,059.00 33,634,931.00 -117,869,207.00   \n",
       "1                      1,465.00 6,111.00 34,449,266.00 -119,281,531.00   \n",
       "2                      1,243.00 6,059.00 33,886,168.00 -117,823,170.00   \n",
       "3                      2,376.00 6,037.00 34,245,180.00 -118,240,722.00   \n",
       "4                      2,962.00 6,037.00 34,145,202.00 -118,179,824.00   \n",
       "\n",
       "   lotsizesquarefeet  regionidcity  regionidcounty  regionidzip  yearbuilt  \\\n",
       "0           4,506.00     53,571.00        1,286.00    96,978.00   1,998.00   \n",
       "1          12,647.00     13,091.00        2,061.00    97,099.00   1,967.00   \n",
       "2           8,432.00     21,412.00        1,286.00    97,078.00   1,962.00   \n",
       "3          13,038.00    396,551.00        3,101.00    96,330.00   1,970.00   \n",
       "4          63,000.00     47,019.00        3,101.00    96,293.00   1,950.00   \n",
       "\n",
       "   structuretaxvaluedollarcnt  taxvaluedollarcnt  landtaxvaluedollarcnt  \\\n",
       "0                  485,713.00       1,023,282.00             537,569.00   \n",
       "1                   88,000.00         464,000.00             376,000.00   \n",
       "2                   85,289.00         564,778.00             479,489.00   \n",
       "3                  108,918.00         145,143.00              36,225.00   \n",
       "4                  276,684.00         773,303.00             496,619.00   \n",
       "\n",
       "   taxamount    cluster  \n",
       "0  11,013.72  cluster_1  \n",
       "1   5,672.48  cluster_0  \n",
       "2   6,488.30  cluster_0  \n",
       "3   1,777.51  cluster_1  \n",
       "4   9,516.26  cluster_1  "
      ]
     },
     "execution_count": 2,
     "metadata": {},
     "output_type": "execute_result"
    }
   ],
   "source": [
    "# obtain the final prepare and explore csv file\n",
    "df = pd.read_csv (r'final_prepare_explore.csv')\n",
    "df.head()"
   ]
  },
  {
   "cell_type": "code",
   "execution_count": 3,
   "metadata": {},
   "outputs": [
    {
     "name": "stdout",
     "output_type": "stream",
     "text": [
      "<class 'pandas.core.frame.DataFrame'>\n",
      "RangeIndex: 52120 entries, 0 to 52119\n",
      "Data columns (total 19 columns):\n",
      " #   Column                        Non-Null Count  Dtype  \n",
      "---  ------                        --------------  -----  \n",
      " 0   Unnamed: 0                    52120 non-null  int64  \n",
      " 1   parcelid                      52120 non-null  int64  \n",
      " 2   logerror                      52120 non-null  float64\n",
      " 3   bathroomcnt                   52120 non-null  float64\n",
      " 4   bedroomcnt                    52120 non-null  float64\n",
      " 5   calculatedfinishedsquarefeet  52120 non-null  float64\n",
      " 6   fips                          52120 non-null  float64\n",
      " 7   latitude                      52120 non-null  float64\n",
      " 8   longitude                     52120 non-null  float64\n",
      " 9   lotsizesquarefeet             52120 non-null  float64\n",
      " 10  regionidcity                  52120 non-null  float64\n",
      " 11  regionidcounty                52120 non-null  float64\n",
      " 12  regionidzip                   52120 non-null  float64\n",
      " 13  yearbuilt                     52120 non-null  float64\n",
      " 14  structuretaxvaluedollarcnt    52120 non-null  float64\n",
      " 15  taxvaluedollarcnt             52120 non-null  float64\n",
      " 16  landtaxvaluedollarcnt         52120 non-null  float64\n",
      " 17  taxamount                     52120 non-null  float64\n",
      " 18  cluster                       52120 non-null  object \n",
      "dtypes: float64(16), int64(2), object(1)\n",
      "memory usage: 7.6+ MB\n"
     ]
    }
   ],
   "source": [
    "df.info()"
   ]
  },
  {
   "cell_type": "code",
   "execution_count": 4,
   "metadata": {},
   "outputs": [
    {
     "data": {
      "text/plain": [
       "Unnamed: 0                      0\n",
       "parcelid                        0\n",
       "logerror                        0\n",
       "bathroomcnt                     0\n",
       "bedroomcnt                      0\n",
       "calculatedfinishedsquarefeet    0\n",
       "fips                            0\n",
       "latitude                        0\n",
       "longitude                       0\n",
       "lotsizesquarefeet               0\n",
       "regionidcity                    0\n",
       "regionidcounty                  0\n",
       "regionidzip                     0\n",
       "yearbuilt                       0\n",
       "structuretaxvaluedollarcnt      0\n",
       "taxvaluedollarcnt               0\n",
       "landtaxvaluedollarcnt           0\n",
       "taxamount                       0\n",
       "cluster                         0\n",
       "dtype: int64"
      ]
     },
     "execution_count": 4,
     "metadata": {},
     "output_type": "execute_result"
    }
   ],
   "source": [
    "# checking the nulls for the cleaned data: \n",
    "df.isnull().sum()"
   ]
  },
  {
   "cell_type": "code",
   "execution_count": 5,
   "metadata": {},
   "outputs": [
    {
     "data": {
      "text/plain": [
       "(52120, 19)"
      ]
     },
     "execution_count": 5,
     "metadata": {},
     "output_type": "execute_result"
    }
   ],
   "source": [
    "df.shape"
   ]
  },
  {
   "cell_type": "code",
   "execution_count": 6,
   "metadata": {},
   "outputs": [
    {
     "data": {
      "text/html": [
       "<div>\n",
       "<style scoped>\n",
       "    .dataframe tbody tr th:only-of-type {\n",
       "        vertical-align: middle;\n",
       "    }\n",
       "\n",
       "    .dataframe tbody tr th {\n",
       "        vertical-align: top;\n",
       "    }\n",
       "\n",
       "    .dataframe thead th {\n",
       "        text-align: right;\n",
       "    }\n",
       "</style>\n",
       "<table border=\"1\" class=\"dataframe\">\n",
       "  <thead>\n",
       "    <tr style=\"text-align: right;\">\n",
       "      <th></th>\n",
       "      <th>count</th>\n",
       "      <th>mean</th>\n",
       "      <th>std</th>\n",
       "      <th>min</th>\n",
       "      <th>25%</th>\n",
       "      <th>50%</th>\n",
       "      <th>75%</th>\n",
       "      <th>max</th>\n",
       "    </tr>\n",
       "  </thead>\n",
       "  <tbody>\n",
       "    <tr>\n",
       "      <th>Unnamed: 0</th>\n",
       "      <td>52,120.00</td>\n",
       "      <td>26,223.43</td>\n",
       "      <td>15,137.50</td>\n",
       "      <td>0.00</td>\n",
       "      <td>13,120.75</td>\n",
       "      <td>26,223.50</td>\n",
       "      <td>39,334.25</td>\n",
       "      <td>52,441.00</td>\n",
       "    </tr>\n",
       "    <tr>\n",
       "      <th>parcelid</th>\n",
       "      <td>52,120.00</td>\n",
       "      <td>12,955,044.31</td>\n",
       "      <td>2,274,805.97</td>\n",
       "      <td>10,711,855.00</td>\n",
       "      <td>11,506,688.75</td>\n",
       "      <td>12,577,655.00</td>\n",
       "      <td>14,127,267.50</td>\n",
       "      <td>162,960,814.00</td>\n",
       "    </tr>\n",
       "    <tr>\n",
       "      <th>logerror</th>\n",
       "      <td>52,120.00</td>\n",
       "      <td>0.02</td>\n",
       "      <td>0.17</td>\n",
       "      <td>-4.66</td>\n",
       "      <td>-0.02</td>\n",
       "      <td>0.01</td>\n",
       "      <td>0.04</td>\n",
       "      <td>3.39</td>\n",
       "    </tr>\n",
       "    <tr>\n",
       "      <th>bathroomcnt</th>\n",
       "      <td>52,120.00</td>\n",
       "      <td>2.29</td>\n",
       "      <td>0.98</td>\n",
       "      <td>1.00</td>\n",
       "      <td>2.00</td>\n",
       "      <td>2.00</td>\n",
       "      <td>3.00</td>\n",
       "      <td>7.00</td>\n",
       "    </tr>\n",
       "    <tr>\n",
       "      <th>bedroomcnt</th>\n",
       "      <td>52,120.00</td>\n",
       "      <td>3.30</td>\n",
       "      <td>0.92</td>\n",
       "      <td>1.00</td>\n",
       "      <td>3.00</td>\n",
       "      <td>3.00</td>\n",
       "      <td>4.00</td>\n",
       "      <td>7.00</td>\n",
       "    </tr>\n",
       "    <tr>\n",
       "      <th>calculatedfinishedsquarefeet</th>\n",
       "      <td>52,120.00</td>\n",
       "      <td>1,906.98</td>\n",
       "      <td>937.70</td>\n",
       "      <td>152.00</td>\n",
       "      <td>1,267.00</td>\n",
       "      <td>1,656.00</td>\n",
       "      <td>2,299.25</td>\n",
       "      <td>9,848.00</td>\n",
       "    </tr>\n",
       "    <tr>\n",
       "      <th>fips</th>\n",
       "      <td>52,120.00</td>\n",
       "      <td>6,049.11</td>\n",
       "      <td>21.00</td>\n",
       "      <td>6,037.00</td>\n",
       "      <td>6,037.00</td>\n",
       "      <td>6,037.00</td>\n",
       "      <td>6,059.00</td>\n",
       "      <td>6,111.00</td>\n",
       "    </tr>\n",
       "    <tr>\n",
       "      <th>latitude</th>\n",
       "      <td>52,120.00</td>\n",
       "      <td>34,022,494.70</td>\n",
       "      <td>274,066.77</td>\n",
       "      <td>33,340,620.00</td>\n",
       "      <td>33,826,805.50</td>\n",
       "      <td>34,022,811.00</td>\n",
       "      <td>34,187,348.50</td>\n",
       "      <td>34,818,767.00</td>\n",
       "    </tr>\n",
       "    <tr>\n",
       "      <th>longitude</th>\n",
       "      <td>52,120.00</td>\n",
       "      <td>-118,193,519.34</td>\n",
       "      <td>356,168.65</td>\n",
       "      <td>-119,475,265.00</td>\n",
       "      <td>-118,399,722.50</td>\n",
       "      <td>-118,152,611.50</td>\n",
       "      <td>-117,929,080.50</td>\n",
       "      <td>-117,554,636.00</td>\n",
       "    </tr>\n",
       "    <tr>\n",
       "      <th>lotsizesquarefeet</th>\n",
       "      <td>52,120.00</td>\n",
       "      <td>11,068.65</td>\n",
       "      <td>86,361.00</td>\n",
       "      <td>0.00</td>\n",
       "      <td>5,533.00</td>\n",
       "      <td>6,804.00</td>\n",
       "      <td>8,729.00</td>\n",
       "      <td>6,971,010.00</td>\n",
       "    </tr>\n",
       "    <tr>\n",
       "      <th>regionidcity</th>\n",
       "      <td>52,120.00</td>\n",
       "      <td>32,898.97</td>\n",
       "      <td>49,011.93</td>\n",
       "      <td>0.00</td>\n",
       "      <td>12,447.00</td>\n",
       "      <td>24,435.00</td>\n",
       "      <td>40,227.00</td>\n",
       "      <td>396,556.00</td>\n",
       "    </tr>\n",
       "    <tr>\n",
       "      <th>regionidcounty</th>\n",
       "      <td>52,120.00</td>\n",
       "      <td>2,524.64</td>\n",
       "      <td>804.15</td>\n",
       "      <td>1,286.00</td>\n",
       "      <td>1,286.00</td>\n",
       "      <td>3,101.00</td>\n",
       "      <td>3,101.00</td>\n",
       "      <td>3,101.00</td>\n",
       "    </tr>\n",
       "    <tr>\n",
       "      <th>regionidzip</th>\n",
       "      <td>52,120.00</td>\n",
       "      <td>96,566.89</td>\n",
       "      <td>421.09</td>\n",
       "      <td>95,982.00</td>\n",
       "      <td>96,206.00</td>\n",
       "      <td>96,414.00</td>\n",
       "      <td>96,995.00</td>\n",
       "      <td>97,344.00</td>\n",
       "    </tr>\n",
       "    <tr>\n",
       "      <th>yearbuilt</th>\n",
       "      <td>52,120.00</td>\n",
       "      <td>1,962.32</td>\n",
       "      <td>51.01</td>\n",
       "      <td>0.00</td>\n",
       "      <td>1,950.00</td>\n",
       "      <td>1,960.00</td>\n",
       "      <td>1,979.00</td>\n",
       "      <td>2,016.00</td>\n",
       "    </tr>\n",
       "    <tr>\n",
       "      <th>structuretaxvaluedollarcnt</th>\n",
       "      <td>52,120.00</td>\n",
       "      <td>190,944.57</td>\n",
       "      <td>218,327.73</td>\n",
       "      <td>0.00</td>\n",
       "      <td>76,810.75</td>\n",
       "      <td>131,099.00</td>\n",
       "      <td>224,535.50</td>\n",
       "      <td>7,893,568.00</td>\n",
       "    </tr>\n",
       "    <tr>\n",
       "      <th>taxvaluedollarcnt</th>\n",
       "      <td>52,120.00</td>\n",
       "      <td>516,114.54</td>\n",
       "      <td>644,812.34</td>\n",
       "      <td>0.00</td>\n",
       "      <td>193,463.25</td>\n",
       "      <td>372,790.00</td>\n",
       "      <td>615,105.50</td>\n",
       "      <td>25,381,250.00</td>\n",
       "    </tr>\n",
       "    <tr>\n",
       "      <th>landtaxvaluedollarcnt</th>\n",
       "      <td>52,120.00</td>\n",
       "      <td>325,169.96</td>\n",
       "      <td>483,857.52</td>\n",
       "      <td>0.00</td>\n",
       "      <td>75,795.25</td>\n",
       "      <td>217,458.50</td>\n",
       "      <td>406,110.25</td>\n",
       "      <td>22,335,500.00</td>\n",
       "    </tr>\n",
       "    <tr>\n",
       "      <th>taxamount</th>\n",
       "      <td>52,120.00</td>\n",
       "      <td>6,290.81</td>\n",
       "      <td>7,419.75</td>\n",
       "      <td>0.00</td>\n",
       "      <td>2,652.55</td>\n",
       "      <td>4,637.84</td>\n",
       "      <td>7,338.27</td>\n",
       "      <td>288,524.60</td>\n",
       "    </tr>\n",
       "  </tbody>\n",
       "</table>\n",
       "</div>"
      ],
      "text/plain": [
       "                                 count            mean          std  \\\n",
       "Unnamed: 0                   52,120.00       26,223.43    15,137.50   \n",
       "parcelid                     52,120.00   12,955,044.31 2,274,805.97   \n",
       "logerror                     52,120.00            0.02         0.17   \n",
       "bathroomcnt                  52,120.00            2.29         0.98   \n",
       "bedroomcnt                   52,120.00            3.30         0.92   \n",
       "calculatedfinishedsquarefeet 52,120.00        1,906.98       937.70   \n",
       "fips                         52,120.00        6,049.11        21.00   \n",
       "latitude                     52,120.00   34,022,494.70   274,066.77   \n",
       "longitude                    52,120.00 -118,193,519.34   356,168.65   \n",
       "lotsizesquarefeet            52,120.00       11,068.65    86,361.00   \n",
       "regionidcity                 52,120.00       32,898.97    49,011.93   \n",
       "regionidcounty               52,120.00        2,524.64       804.15   \n",
       "regionidzip                  52,120.00       96,566.89       421.09   \n",
       "yearbuilt                    52,120.00        1,962.32        51.01   \n",
       "structuretaxvaluedollarcnt   52,120.00      190,944.57   218,327.73   \n",
       "taxvaluedollarcnt            52,120.00      516,114.54   644,812.34   \n",
       "landtaxvaluedollarcnt        52,120.00      325,169.96   483,857.52   \n",
       "taxamount                    52,120.00        6,290.81     7,419.75   \n",
       "\n",
       "                                         min             25%             50%  \\\n",
       "Unnamed: 0                              0.00       13,120.75       26,223.50   \n",
       "parcelid                       10,711,855.00   11,506,688.75   12,577,655.00   \n",
       "logerror                               -4.66           -0.02            0.01   \n",
       "bathroomcnt                             1.00            2.00            2.00   \n",
       "bedroomcnt                              1.00            3.00            3.00   \n",
       "calculatedfinishedsquarefeet          152.00        1,267.00        1,656.00   \n",
       "fips                                6,037.00        6,037.00        6,037.00   \n",
       "latitude                       33,340,620.00   33,826,805.50   34,022,811.00   \n",
       "longitude                    -119,475,265.00 -118,399,722.50 -118,152,611.50   \n",
       "lotsizesquarefeet                       0.00        5,533.00        6,804.00   \n",
       "regionidcity                            0.00       12,447.00       24,435.00   \n",
       "regionidcounty                      1,286.00        1,286.00        3,101.00   \n",
       "regionidzip                        95,982.00       96,206.00       96,414.00   \n",
       "yearbuilt                               0.00        1,950.00        1,960.00   \n",
       "structuretaxvaluedollarcnt              0.00       76,810.75      131,099.00   \n",
       "taxvaluedollarcnt                       0.00      193,463.25      372,790.00   \n",
       "landtaxvaluedollarcnt                   0.00       75,795.25      217,458.50   \n",
       "taxamount                               0.00        2,652.55        4,637.84   \n",
       "\n",
       "                                         75%             max  \n",
       "Unnamed: 0                         39,334.25       52,441.00  \n",
       "parcelid                       14,127,267.50  162,960,814.00  \n",
       "logerror                                0.04            3.39  \n",
       "bathroomcnt                             3.00            7.00  \n",
       "bedroomcnt                              4.00            7.00  \n",
       "calculatedfinishedsquarefeet        2,299.25        9,848.00  \n",
       "fips                                6,059.00        6,111.00  \n",
       "latitude                       34,187,348.50   34,818,767.00  \n",
       "longitude                    -117,929,080.50 -117,554,636.00  \n",
       "lotsizesquarefeet                   8,729.00    6,971,010.00  \n",
       "regionidcity                       40,227.00      396,556.00  \n",
       "regionidcounty                      3,101.00        3,101.00  \n",
       "regionidzip                        96,995.00       97,344.00  \n",
       "yearbuilt                           1,979.00        2,016.00  \n",
       "structuretaxvaluedollarcnt        224,535.50    7,893,568.00  \n",
       "taxvaluedollarcnt                 615,105.50   25,381,250.00  \n",
       "landtaxvaluedollarcnt             406,110.25   22,335,500.00  \n",
       "taxamount                           7,338.27      288,524.60  "
      ]
     },
     "execution_count": 6,
     "metadata": {},
     "output_type": "execute_result"
    }
   ],
   "source": [
    "df.describe().T"
   ]
  },
  {
   "cell_type": "markdown",
   "metadata": {},
   "source": [
    "**Takeaways**\n",
    "- From a MVP perspective, the data is cleaned to explore"
   ]
  },
  {
   "cell_type": "markdown",
   "metadata": {},
   "source": [
    "---"
   ]
  },
  {
   "cell_type": "markdown",
   "metadata": {},
   "source": [
    "# Explore"
   ]
  },
  {
   "cell_type": "markdown",
   "metadata": {},
   "source": [
    "<div class=\"alert alert-block alert-info\"><b>Zestimate Feature Drivers:</b> We are looking to see what features can help us best predict the drivers for Zestimate errors </div>"
   ]
  },
  {
   "cell_type": "markdown",
   "metadata": {},
   "source": [
    "<code style=\"background:yellow;color:black\">Our target variable is: logerror, which notes the Zestimate errors.</code>"
   ]
  },
  {
   "cell_type": "code",
   "execution_count": 7,
   "metadata": {},
   "outputs": [],
   "source": [
    "# Our target variable is: logerror, which notes the Zestimate errors\n",
    "target_var = 'logerror'"
   ]
  },
  {
   "cell_type": "code",
   "execution_count": null,
   "metadata": {},
   "outputs": [],
   "source": []
  },
  {
   "cell_type": "code",
   "execution_count": 8,
   "metadata": {},
   "outputs": [
    {
     "data": {
      "text/plain": [
       "[       Unnamed: 0  parcelid  logerror  bathroomcnt  bedroomcnt  \\\n",
       " 4778         4805  12535098      0.00         2.00        3.00   \n",
       " 9060         9123  10713904     -0.00         2.00        3.00   \n",
       " 38162       38401  12385211     -0.01         2.00        3.00   \n",
       " 26756       26923  12597233     -0.03         2.00        3.00   \n",
       " 4400         4424  13989121      0.01         2.00        3.00   \n",
       " ...           ...       ...       ...          ...         ...   \n",
       " 19209       19331  12268972     -0.03         1.00        2.00   \n",
       " 42418       42686  11226968     -0.00         2.00        4.00   \n",
       " 6669         6715  14239434      0.10         1.00        2.00   \n",
       " 3272         3294  14503028     -0.01         2.00        3.00   \n",
       " 44863       45143  12951350      0.20         3.00        2.00   \n",
       " \n",
       "        calculatedfinishedsquarefeet     fips      latitude       longitude  \\\n",
       " 4778                       1,947.00 6,037.00 33,774,139.00 -118,144,313.00   \n",
       " 9060                       1,310.00 6,037.00 34,238,543.00 -118,636,124.00   \n",
       " 38162                      1,236.00 6,037.00 33,956,738.00 -118,124,560.00   \n",
       " 26756                      2,034.00 6,037.00 33,836,788.00 -118,330,476.00   \n",
       " 4400                       1,352.00 6,059.00 33,825,452.00 -117,969,729.00   \n",
       " ...                             ...      ...           ...             ...   \n",
       " 19209                        880.00 6,037.00 33,921,518.00 -118,247,578.00   \n",
       " 42418                      1,300.00 6,037.00 34,553,307.00 -117,943,470.00   \n",
       " 6669                       1,472.00 6,059.00 33,781,327.00 -117,843,800.00   \n",
       " 3272                       1,326.00 6,059.00 33,646,398.00 -117,657,636.00   \n",
       " 44863                      1,749.00 6,037.00 34,060,749.00 -117,900,258.00   \n",
       " \n",
       "        lotsizesquarefeet  regionidcity  regionidcounty  regionidzip  \\\n",
       " 4778            6,404.00     46,298.00        3,101.00    96,246.00   \n",
       " 9060            5,000.00          0.00        3,101.00    96,346.00   \n",
       " 38162           6,418.00      4,406.00        3,101.00    96,100.00   \n",
       " 26756           7,725.00     54,722.00        3,101.00    96,161.00   \n",
       " 4400            7,210.00     16,764.00        1,286.00    97,023.00   \n",
       " ...                  ...           ...             ...          ...   \n",
       " 19209           6,005.00    118,994.00        3,101.00    96,040.00   \n",
       " 42418          39,620.00     29,189.00        3,101.00    97,323.00   \n",
       " 6669            9,104.00     33,252.00        1,286.00    97,064.00   \n",
       " 3272            8,690.00     12,773.00        1,286.00    96,995.00   \n",
       " 44863           9,638.00     14,542.00        3,101.00    96,524.00   \n",
       " \n",
       "        yearbuilt  structuretaxvaluedollarcnt  taxvaluedollarcnt  \\\n",
       " 4778    1,923.00                  113,785.00         388,478.00   \n",
       " 9060    1,987.00                  153,880.00         465,989.00   \n",
       " 38162   1,949.00                   65,422.00         327,118.00   \n",
       " 26756   1,951.00                   80,966.00         159,522.00   \n",
       " 4400    1,955.00                   72,652.00         261,566.00   \n",
       " ...          ...                         ...                ...   \n",
       " 19209   1,946.00                   77,615.00         164,716.00   \n",
       " 42418   1,985.00                   76,219.00          90,937.00   \n",
       " 6669    1,921.00                   33,048.00         314,843.00   \n",
       " 3272    1,976.00                   66,950.00         159,398.00   \n",
       " 44863   1,955.00                   65,007.00          78,856.00   \n",
       " \n",
       "        landtaxvaluedollarcnt  taxamount    cluster  \n",
       " 4778              274,693.00   4,784.07  cluster_0  \n",
       " 9060              312,109.00   5,582.32  cluster_0  \n",
       " 38162             261,696.00   4,119.02  cluster_0  \n",
       " 26756              78,556.00   2,017.77  cluster_0  \n",
       " 4400              188,914.00   3,145.56  cluster_0  \n",
       " ...                      ...        ...        ...  \n",
       " 19209              87,101.00   2,503.37  cluster_0  \n",
       " 42418              14,718.00   1,217.30  cluster_1  \n",
       " 6669              281,795.00   3,599.58  cluster_0  \n",
       " 3272               92,448.00   1,661.12  cluster_0  \n",
       " 44863              13,849.00   1,182.73  cluster_0  \n",
       " \n",
       " [29187 rows x 19 columns],\n",
       "        Unnamed: 0  parcelid  bathroomcnt  bedroomcnt  \\\n",
       " 4778         4805  12535098         2.00        3.00   \n",
       " 9060         9123  10713904         2.00        3.00   \n",
       " 38162       38401  12385211         2.00        3.00   \n",
       " 26756       26923  12597233         2.00        3.00   \n",
       " 4400         4424  13989121         2.00        3.00   \n",
       " ...           ...       ...          ...         ...   \n",
       " 19209       19331  12268972         1.00        2.00   \n",
       " 42418       42686  11226968         2.00        4.00   \n",
       " 6669         6715  14239434         1.00        2.00   \n",
       " 3272         3294  14503028         2.00        3.00   \n",
       " 44863       45143  12951350         3.00        2.00   \n",
       " \n",
       "        calculatedfinishedsquarefeet     fips      latitude       longitude  \\\n",
       " 4778                       1,947.00 6,037.00 33,774,139.00 -118,144,313.00   \n",
       " 9060                       1,310.00 6,037.00 34,238,543.00 -118,636,124.00   \n",
       " 38162                      1,236.00 6,037.00 33,956,738.00 -118,124,560.00   \n",
       " 26756                      2,034.00 6,037.00 33,836,788.00 -118,330,476.00   \n",
       " 4400                       1,352.00 6,059.00 33,825,452.00 -117,969,729.00   \n",
       " ...                             ...      ...           ...             ...   \n",
       " 19209                        880.00 6,037.00 33,921,518.00 -118,247,578.00   \n",
       " 42418                      1,300.00 6,037.00 34,553,307.00 -117,943,470.00   \n",
       " 6669                       1,472.00 6,059.00 33,781,327.00 -117,843,800.00   \n",
       " 3272                       1,326.00 6,059.00 33,646,398.00 -117,657,636.00   \n",
       " 44863                      1,749.00 6,037.00 34,060,749.00 -117,900,258.00   \n",
       " \n",
       "        lotsizesquarefeet  regionidcity  regionidcounty  regionidzip  \\\n",
       " 4778            6,404.00     46,298.00        3,101.00    96,246.00   \n",
       " 9060            5,000.00          0.00        3,101.00    96,346.00   \n",
       " 38162           6,418.00      4,406.00        3,101.00    96,100.00   \n",
       " 26756           7,725.00     54,722.00        3,101.00    96,161.00   \n",
       " 4400            7,210.00     16,764.00        1,286.00    97,023.00   \n",
       " ...                  ...           ...             ...          ...   \n",
       " 19209           6,005.00    118,994.00        3,101.00    96,040.00   \n",
       " 42418          39,620.00     29,189.00        3,101.00    97,323.00   \n",
       " 6669            9,104.00     33,252.00        1,286.00    97,064.00   \n",
       " 3272            8,690.00     12,773.00        1,286.00    96,995.00   \n",
       " 44863           9,638.00     14,542.00        3,101.00    96,524.00   \n",
       " \n",
       "        yearbuilt  structuretaxvaluedollarcnt  taxvaluedollarcnt  \\\n",
       " 4778    1,923.00                  113,785.00         388,478.00   \n",
       " 9060    1,987.00                  153,880.00         465,989.00   \n",
       " 38162   1,949.00                   65,422.00         327,118.00   \n",
       " 26756   1,951.00                   80,966.00         159,522.00   \n",
       " 4400    1,955.00                   72,652.00         261,566.00   \n",
       " ...          ...                         ...                ...   \n",
       " 19209   1,946.00                   77,615.00         164,716.00   \n",
       " 42418   1,985.00                   76,219.00          90,937.00   \n",
       " 6669    1,921.00                   33,048.00         314,843.00   \n",
       " 3272    1,976.00                   66,950.00         159,398.00   \n",
       " 44863   1,955.00                   65,007.00          78,856.00   \n",
       " \n",
       "        landtaxvaluedollarcnt  taxamount    cluster  \n",
       " 4778              274,693.00   4,784.07  cluster_0  \n",
       " 9060              312,109.00   5,582.32  cluster_0  \n",
       " 38162             261,696.00   4,119.02  cluster_0  \n",
       " 26756              78,556.00   2,017.77  cluster_0  \n",
       " 4400              188,914.00   3,145.56  cluster_0  \n",
       " ...                      ...        ...        ...  \n",
       " 19209              87,101.00   2,503.37  cluster_0  \n",
       " 42418              14,718.00   1,217.30  cluster_1  \n",
       " 6669              281,795.00   3,599.58  cluster_0  \n",
       " 3272               92,448.00   1,661.12  cluster_0  \n",
       " 44863              13,849.00   1,182.73  cluster_0  \n",
       " \n",
       " [29187 rows x 18 columns],\n",
       "        Unnamed: 0  parcelid  bathroomcnt  bedroomcnt  \\\n",
       " 24843       25003  10714186         3.00        5.00   \n",
       " 23506       23656  12568042         1.00        2.00   \n",
       " 36916       37149  17137279         2.00        4.00   \n",
       " 50261       50571  10818458         4.00        4.00   \n",
       " 42675       42943  13922970         2.00        4.00   \n",
       " ...           ...       ...          ...         ...   \n",
       " 45039       45320  10928538         1.00        2.00   \n",
       " 20330       20460  12336904         2.00        2.00   \n",
       " 19221       19344  12158980         1.00        2.00   \n",
       " 50590       50901  17187951         2.00        3.00   \n",
       " 16126       16237  17052111         2.50        4.00   \n",
       " \n",
       "        calculatedfinishedsquarefeet     fips      latitude       longitude  \\\n",
       " 24843                      2,402.00 6,037.00 34,228,894.00 -118,607,368.00   \n",
       " 23506                        684.00 6,037.00 33,822,330.00 -118,210,760.00   \n",
       " 36916                      1,429.00 6,111.00 34,229,256.00 -119,031,817.00   \n",
       " 50261                      2,648.00 6,037.00 34,152,620.00 -118,595,184.00   \n",
       " 42675                      1,443.00 6,059.00 33,830,949.00 -117,893,633.00   \n",
       " ...                             ...      ...           ...             ...   \n",
       " 45039                      1,273.00 6,037.00 34,169,300.00 -118,358,774.00   \n",
       " 20330                      1,183.00 6,037.00 33,904,796.00 -118,135,204.00   \n",
       " 19221                      1,144.00 6,037.00 34,187,186.00 -118,159,463.00   \n",
       " 50590                      2,049.00 6,111.00 34,209,732.00 -119,017,756.00   \n",
       " 16126                      2,664.00 6,111.00 34,463,303.00 -119,197,683.00   \n",
       " \n",
       "        lotsizesquarefeet  regionidcity  regionidcounty  regionidzip  \\\n",
       " 24843          12,860.00     12,447.00        3,101.00    96,339.00   \n",
       " 23506           2,523.00     46,298.00        3,101.00    96,244.00   \n",
       " 36916           8,664.00     51,239.00        2,061.00    97,089.00   \n",
       " 50261           6,629.00     12,447.00        3,101.00    96,387.00   \n",
       " 42675           7,350.00     16,764.00        1,286.00    97,024.00   \n",
       " ...                  ...           ...             ...          ...   \n",
       " 45039           6,571.00     12,447.00        3,101.00    96,446.00   \n",
       " 20330           9,574.00     44,116.00        3,101.00    96,208.00   \n",
       " 19221           6,754.00     30,187.00        3,101.00    96,265.00   \n",
       " 50590           5,621.00     51,239.00        2,061.00    97,091.00   \n",
       " 16126          39,807.00     13,091.00        2,061.00    97,099.00   \n",
       " \n",
       "        yearbuilt  structuretaxvaluedollarcnt  taxvaluedollarcnt  \\\n",
       " 24843   1,963.00                  241,079.00         495,141.00   \n",
       " 23506   1,954.00                   61,900.00         285,000.00   \n",
       " 36916   1,979.00                  171,000.00         484,000.00   \n",
       " 50261   1,956.00                  329,956.00         786,818.00   \n",
       " 42675   1,960.00                   47,348.00          72,821.00   \n",
       " ...          ...                         ...                ...   \n",
       " 45039   1,943.00                   99,557.00         294,765.00   \n",
       " 20330   1,950.00                  172,592.00         363,459.00   \n",
       " 19221   1,937.00                   70,376.00         351,895.00   \n",
       " 50590   2,005.00                  333,000.00         664,000.00   \n",
       " 16126   1,988.00                  324,593.00         490,309.00   \n",
       " \n",
       "        landtaxvaluedollarcnt  taxamount    cluster  \n",
       " 24843             254,062.00   6,129.20  cluster_1  \n",
       " 23506             223,100.00   3,516.06  cluster_0  \n",
       " 36916             313,000.00   5,237.50  cluster_1  \n",
       " 50261             456,862.00   9,997.98  cluster_1  \n",
       " 42675              25,473.00   1,081.06  cluster_1  \n",
       " ...                      ...        ...        ...  \n",
       " 45039             195,208.00   3,652.59  cluster_0  \n",
       " 20330             190,867.00   4,646.56  cluster_0  \n",
       " 19221             281,519.00   4,291.23  cluster_0  \n",
       " 50590             331,000.00   7,063.30  cluster_0  \n",
       " 16126             165,716.00   5,238.90  cluster_1  \n",
       " \n",
       " [12509 rows x 18 columns],\n",
       "        Unnamed: 0  parcelid  bathroomcnt  bedroomcnt  \\\n",
       " 32042       32238  14274404         1.00        3.00   \n",
       " 42361       42628  14402749         2.00        3.00   \n",
       " 23089       23236  10783803         2.00        3.00   \n",
       " 50489       50800  13920972         1.50        3.00   \n",
       " 30135       30322  10738157         2.00        4.00   \n",
       " ...           ...       ...          ...         ...   \n",
       " 44786       45066  14294495         2.00        3.00   \n",
       " 47559       47849  11797022         1.00        3.00   \n",
       " 18697       18817  12268336         2.00        3.00   \n",
       " 12710       12800  10800937         2.00        2.00   \n",
       " 25171       25333  17269390         2.00        4.00   \n",
       " \n",
       "        calculatedfinishedsquarefeet     fips      latitude       longitude  \\\n",
       " 32042                      1,034.00 6,059.00 33,651,256.00 -117,934,472.00   \n",
       " 42361                      2,062.00 6,059.00 33,536,556.00 -117,766,633.00   \n",
       " 23089                      1,261.00 6,037.00 34,196,185.00 -118,551,182.00   \n",
       " 50489                      1,163.00 6,059.00 33,811,690.00 -117,999,089.00   \n",
       " 30135                      1,924.00 6,037.00 34,167,438.00 -118,756,588.00   \n",
       " ...                             ...      ...           ...             ...   \n",
       " 44786                      1,128.00 6,059.00 33,638,923.00 -117,876,214.00   \n",
       " 47559                      1,134.00 6,037.00 34,026,851.00 -118,213,795.00   \n",
       " 18697                      1,373.00 6,037.00 33,919,423.00 -118,244,056.00   \n",
       " 12710                      1,011.00 6,037.00 34,174,356.00 -118,526,024.00   \n",
       " 25171                      1,639.00 6,111.00 34,173,104.00 -118,962,894.00   \n",
       " \n",
       "        lotsizesquarefeet  regionidcity  regionidcounty  regionidzip  \\\n",
       " 32042           7,700.00     38,032.00        1,286.00    96,959.00   \n",
       " 42361           7,200.00     52,842.00        1,286.00    96,969.00   \n",
       " 23089           6,234.00     12,447.00        3,101.00    96,364.00   \n",
       " 50489           2,254.00     42,967.00        1,286.00    96,203.00   \n",
       " 30135           6,646.00      9,840.00        3,101.00    96,336.00   \n",
       " ...                  ...           ...             ...          ...   \n",
       " 44786           1,560.00     53,571.00        1,286.00    96,978.00   \n",
       " 47559           4,999.00     12,447.00        3,101.00    96,004.00   \n",
       " 18697          11,167.00     24,174.00        3,101.00    96,092.00   \n",
       " 12710           5,999.00     12,447.00        3,101.00    96,349.00   \n",
       " 25171           8,785.00     34,278.00        2,061.00    96,351.00   \n",
       " \n",
       "        yearbuilt  structuretaxvaluedollarcnt  taxvaluedollarcnt  \\\n",
       " 32042   1,953.00                   39,867.00         610,000.00   \n",
       " 42361   1,980.00                  156,643.00         416,215.00   \n",
       " 23089   1,955.00                  114,817.00         332,569.00   \n",
       " 50489   1,972.00                   80,559.00         329,026.00   \n",
       " 30135   1,973.00                  218,503.00         417,143.00   \n",
       " ...          ...                         ...                ...   \n",
       " 44786   1,965.00                   69,089.00         673,097.00   \n",
       " 47559   1,911.00                   18,200.00          38,263.00   \n",
       " 18697   1,947.00                   26,072.00          39,297.00   \n",
       " 12710   1,949.00                   99,514.00         497,573.00   \n",
       " 25171   1,970.00                  203,703.00         337,066.00   \n",
       " \n",
       "        landtaxvaluedollarcnt  taxamount    cluster  \n",
       " 32042             570,133.00   7,056.12  cluster_0  \n",
       " 42361             259,572.00   5,103.66  cluster_0  \n",
       " 23089             217,752.00   4,016.13  cluster_0  \n",
       " 50489             248,467.00   4,181.10  cluster_0  \n",
       " 30135             198,640.00   4,917.99  cluster_1  \n",
       " ...                      ...        ...        ...  \n",
       " 44786             604,008.00   7,411.78  cluster_0  \n",
       " 47559              20,063.00     534.78  cluster_0  \n",
       " 18697              13,225.00   1,022.91  cluster_0  \n",
       " 12710             398,059.00   6,023.26  cluster_0  \n",
       " 25171             133,363.00   3,573.72  cluster_1  \n",
       " \n",
       " [10424 rows x 18 columns],\n",
       "        logerror\n",
       " 4778       0.00\n",
       " 9060      -0.00\n",
       " 38162     -0.01\n",
       " 26756     -0.03\n",
       " 4400       0.01\n",
       " ...         ...\n",
       " 19209     -0.03\n",
       " 42418     -0.00\n",
       " 6669       0.10\n",
       " 3272      -0.01\n",
       " 44863      0.20\n",
       " \n",
       " [29187 rows x 1 columns],\n",
       "        logerror\n",
       " 24843     -0.00\n",
       " 23506      0.06\n",
       " 36916      1.03\n",
       " 50261      0.10\n",
       " 42675      0.03\n",
       " ...         ...\n",
       " 45039     -0.06\n",
       " 20330      0.15\n",
       " 19221      0.49\n",
       " 50590     -0.01\n",
       " 16126      0.03\n",
       " \n",
       " [12509 rows x 1 columns],\n",
       "        logerror\n",
       " 32042      0.00\n",
       " 42361      0.07\n",
       " 23089     -0.04\n",
       " 50489     -0.00\n",
       " 30135     -0.00\n",
       " ...         ...\n",
       " 44786      0.04\n",
       " 47559      0.02\n",
       " 18697     -0.07\n",
       " 12710      0.01\n",
       " 25171     -0.02\n",
       " \n",
       " [10424 rows x 1 columns]]"
      ]
     },
     "execution_count": 8,
     "metadata": {},
     "output_type": "execute_result"
    }
   ],
   "source": [
    "prepare.split(df, target_var)"
   ]
  },
  {
   "cell_type": "code",
   "execution_count": 9,
   "metadata": {},
   "outputs": [],
   "source": [
    "partitions = prepare.split(df, target_var='logerror')"
   ]
  },
  {
   "cell_type": "markdown",
   "metadata": {},
   "source": [
    "<code style=\"background:yellow;color:black\">We will have 2 bins: Luxury and Opulence vs The Shrinking Middle Class.</code>"
   ]
  },
  {
   "cell_type": "code",
   "execution_count": 10,
   "metadata": {},
   "outputs": [],
   "source": [
    "# Luxury & Opulence vs The Shrinking Middle Class\n",
    "train = partitions[0]\n",
    "train['logerror_bins'] = pd.cut(train.logerror, [-5, .2, 4])\n",
    "partitions[0] = train"
   ]
  },
  {
   "cell_type": "code",
   "execution_count": 11,
   "metadata": {},
   "outputs": [
    {
     "data": {
      "text/plain": [
       "(-5.0, 0.2]    27833\n",
       "(0.2, 4.0]      1354\n",
       "Name: logerror_bins, dtype: int64"
      ]
     },
     "execution_count": 11,
     "metadata": {},
     "output_type": "execute_result"
    }
   ],
   "source": [
    "train.logerror_bins.value_counts()"
   ]
  },
  {
   "cell_type": "code",
   "execution_count": 12,
   "metadata": {},
   "outputs": [
    {
     "data": {
      "text/plain": [
       "<seaborn.axisgrid.PairGrid at 0x7fb2bca42d90>"
      ]
     },
     "execution_count": 12,
     "metadata": {},
     "output_type": "execute_result"
    },
    {
     "data": {
      "image/png": "[encoded data removed]",
      "text/plain": [
       "<Figure size 805.625x720 with 17 Axes>"
      ]
     },
     "metadata": {
      "needs_background": "light"
     },
     "output_type": "display_data"
    }
   ],
   "source": [
    "# we are wanting to focus on 'bathroomcnt', 'bedroomcnt' and 'calculatedfinishedsquarefeet' within our Lux and Middle class market clusters\n",
    "sns.pairplot(data = train, hue = 'logerror_bins', \n",
    "             # 'structure_dollar_sqft_bin', 'lot_dollar_sqft_bin',  'taxrate', 'bath_bed_ratio'\n",
    "             # 'acres', ,  'age'\n",
    "             x_vars = ['logerror', 'taxvaluedollarcnt', 'landtaxvaluedollarcnt', 'taxamount'],\n",
    "             y_vars = ['logerror', 'bathroomcnt', 'bedroomcnt', 'calculatedfinishedsquarefeet'])"
   ]
  },
  {
   "cell_type": "markdown",
   "metadata": {},
   "source": [
    "<code style=\"background:yellow;color:black\">Pairplot Takeaways:</code>\n",
    "\n",
    "- There are 2 distinct clusters when looking at:\n",
    "    - bathroomcnt\n",
    "    - bedroomcnt\n",
    "    - calculatedfinishedsquarefeet\n",
    "    - Target: logerror"
   ]
  },
  {
   "cell_type": "code",
   "execution_count": 13,
   "metadata": {},
   "outputs": [],
   "source": [
    "#the variables that still need scaling\n",
    "scaled_vars = ['latitude', 'longitude', 'bathroomcnt', 'calculatedfinishedsquarefeet']"
   ]
  },
  {
   "cell_type": "code",
   "execution_count": 14,
   "metadata": {},
   "outputs": [],
   "source": [
    "# create new column names for the scaled variables by adding 'scaled_' to the beginning of each variable name \n",
    "scaled_column_names = ['scaled_' + i for i in scaled_vars]"
   ]
  },
  {
   "cell_type": "code",
   "execution_count": 15,
   "metadata": {},
   "outputs": [],
   "source": [
    "# select the X partitions: [X_train, X_validate, X_test]\n",
    "X = partitions[1:4]"
   ]
  },
  {
   "cell_type": "code",
   "execution_count": 16,
   "metadata": {},
   "outputs": [],
   "source": [
    "# fit the minmaxscaler to X_train\n",
    "X_train = X[0]"
   ]
  },
  {
   "cell_type": "code",
   "execution_count": 17,
   "metadata": {},
   "outputs": [],
   "source": [
    "# scaling the data\n",
    "scaler = prepare.MinMaxScaler(copy=True).fit(X_train[scaled_vars])"
   ]
  },
  {
   "cell_type": "code",
   "execution_count": 18,
   "metadata": {},
   "outputs": [],
   "source": [
    "# list of variables I will cluster on. \n",
    "cluster_vars = ['bathroomcnt', 'bedroomcnt', 'calculatedfinishedsquarefeet'] \n",
    "cluster_name = 'features_cluster'\n",
    "k_range = range(2,20)"
   ]
  },
  {
   "cell_type": "code",
   "execution_count": 19,
   "metadata": {},
   "outputs": [
    {
     "data": {
      "image/png": "[encoded data removed]",
      "text/plain": [
       "<Figure size 432x288 with 1 Axes>"
      ]
     },
     "metadata": {
      "needs_background": "light"
     },
     "output_type": "display_data"
    },
    {
     "data": {
      "image/png": "[encoded data removed]",
      "text/plain": [
       "<Figure size 432x288 with 1 Axes>"
      ]
     },
     "metadata": {
      "needs_background": "light"
     },
     "output_type": "display_data"
    },
    {
     "data": {
      "image/png": "[encoded data removed]",
      "text/plain": [
       "<Figure size 432x288 with 1 Axes>"
      ]
     },
     "metadata": {
      "needs_background": "light"
     },
     "output_type": "display_data"
    },
    {
     "data": {
      "text/html": [
       "<div>\n",
       "<style scoped>\n",
       "    .dataframe tbody tr th:only-of-type {\n",
       "        vertical-align: middle;\n",
       "    }\n",
       "\n",
       "    .dataframe tbody tr th {\n",
       "        vertical-align: top;\n",
       "    }\n",
       "\n",
       "    .dataframe thead th {\n",
       "        text-align: right;\n",
       "    }\n",
       "</style>\n",
       "<table border=\"1\" class=\"dataframe\">\n",
       "  <thead>\n",
       "    <tr style=\"text-align: right;\">\n",
       "      <th></th>\n",
       "      <th>k</th>\n",
       "      <th>sse</th>\n",
       "      <th>delta</th>\n",
       "      <th>pct_delta</th>\n",
       "    </tr>\n",
       "  </thead>\n",
       "  <tbody>\n",
       "    <tr>\n",
       "      <th>0</th>\n",
       "      <td>2</td>\n",
       "      <td>9,420,055,556.63</td>\n",
       "      <td>4,381,000,623.00</td>\n",
       "      <td>46.50</td>\n",
       "    </tr>\n",
       "    <tr>\n",
       "      <th>1</th>\n",
       "      <td>3</td>\n",
       "      <td>5,039,054,934.04</td>\n",
       "      <td>1,920,824,564.00</td>\n",
       "      <td>38.10</td>\n",
       "    </tr>\n",
       "    <tr>\n",
       "      <th>2</th>\n",
       "      <td>4</td>\n",
       "      <td>3,118,230,369.73</td>\n",
       "      <td>1,022,988,264.00</td>\n",
       "      <td>32.80</td>\n",
       "    </tr>\n",
       "    <tr>\n",
       "      <th>3</th>\n",
       "      <td>5</td>\n",
       "      <td>2,095,242,105.81</td>\n",
       "      <td>570,945,876.00</td>\n",
       "      <td>27.20</td>\n",
       "    </tr>\n",
       "    <tr>\n",
       "      <th>4</th>\n",
       "      <td>6</td>\n",
       "      <td>1,524,296,229.91</td>\n",
       "      <td>375,769,647.00</td>\n",
       "      <td>24.70</td>\n",
       "    </tr>\n",
       "    <tr>\n",
       "      <th>5</th>\n",
       "      <td>7</td>\n",
       "      <td>1,148,526,583.32</td>\n",
       "      <td>238,107,538.00</td>\n",
       "      <td>20.70</td>\n",
       "    </tr>\n",
       "    <tr>\n",
       "      <th>6</th>\n",
       "      <td>8</td>\n",
       "      <td>910,419,045.74</td>\n",
       "      <td>182,741,607.00</td>\n",
       "      <td>20.10</td>\n",
       "    </tr>\n",
       "    <tr>\n",
       "      <th>7</th>\n",
       "      <td>9</td>\n",
       "      <td>727,677,438.98</td>\n",
       "      <td>129,968,906.00</td>\n",
       "      <td>17.90</td>\n",
       "    </tr>\n",
       "    <tr>\n",
       "      <th>8</th>\n",
       "      <td>10</td>\n",
       "      <td>597,708,532.67</td>\n",
       "      <td>101,992,466.00</td>\n",
       "      <td>17.10</td>\n",
       "    </tr>\n",
       "    <tr>\n",
       "      <th>9</th>\n",
       "      <td>11</td>\n",
       "      <td>495,716,066.83</td>\n",
       "      <td>73,728,010.00</td>\n",
       "      <td>14.90</td>\n",
       "    </tr>\n",
       "    <tr>\n",
       "      <th>10</th>\n",
       "      <td>12</td>\n",
       "      <td>421,988,056.48</td>\n",
       "      <td>59,772,417.00</td>\n",
       "      <td>14.20</td>\n",
       "    </tr>\n",
       "    <tr>\n",
       "      <th>11</th>\n",
       "      <td>13</td>\n",
       "      <td>362,215,639.76</td>\n",
       "      <td>47,570,374.00</td>\n",
       "      <td>13.10</td>\n",
       "    </tr>\n",
       "    <tr>\n",
       "      <th>12</th>\n",
       "      <td>14</td>\n",
       "      <td>314,645,265.45</td>\n",
       "      <td>39,607,345.00</td>\n",
       "      <td>12.60</td>\n",
       "    </tr>\n",
       "    <tr>\n",
       "      <th>13</th>\n",
       "      <td>15</td>\n",
       "      <td>275,037,920.06</td>\n",
       "      <td>34,816,182.00</td>\n",
       "      <td>12.70</td>\n",
       "    </tr>\n",
       "    <tr>\n",
       "      <th>14</th>\n",
       "      <td>16</td>\n",
       "      <td>240,221,737.83</td>\n",
       "      <td>28,125,288.00</td>\n",
       "      <td>11.70</td>\n",
       "    </tr>\n",
       "    <tr>\n",
       "      <th>15</th>\n",
       "      <td>17</td>\n",
       "      <td>212,096,449.89</td>\n",
       "      <td>19,278,845.00</td>\n",
       "      <td>9.10</td>\n",
       "    </tr>\n",
       "    <tr>\n",
       "      <th>16</th>\n",
       "      <td>18</td>\n",
       "      <td>192,817,604.42</td>\n",
       "      <td>19,425,248.00</td>\n",
       "      <td>10.10</td>\n",
       "    </tr>\n",
       "  </tbody>\n",
       "</table>\n",
       "</div>"
      ],
      "text/plain": [
       "     k              sse            delta  pct_delta\n",
       "0    2 9,420,055,556.63 4,381,000,623.00      46.50\n",
       "1    3 5,039,054,934.04 1,920,824,564.00      38.10\n",
       "2    4 3,118,230,369.73 1,022,988,264.00      32.80\n",
       "3    5 2,095,242,105.81   570,945,876.00      27.20\n",
       "4    6 1,524,296,229.91   375,769,647.00      24.70\n",
       "5    7 1,148,526,583.32   238,107,538.00      20.70\n",
       "6    8   910,419,045.74   182,741,607.00      20.10\n",
       "7    9   727,677,438.98   129,968,906.00      17.90\n",
       "8   10   597,708,532.67   101,992,466.00      17.10\n",
       "9   11   495,716,066.83    73,728,010.00      14.90\n",
       "10  12   421,988,056.48    59,772,417.00      14.20\n",
       "11  13   362,215,639.76    47,570,374.00      13.10\n",
       "12  14   314,645,265.45    39,607,345.00      12.60\n",
       "13  15   275,037,920.06    34,816,182.00      12.70\n",
       "14  16   240,221,737.83    28,125,288.00      11.70\n",
       "15  17   212,096,449.89    19,278,845.00       9.10\n",
       "16  18   192,817,604.42    19,425,248.00      10.10"
      ]
     },
     "execution_count": 19,
     "metadata": {},
     "output_type": "execute_result"
    }
   ],
   "source": [
    "prepare.find_k(X_train, cluster_vars, k_range)"
   ]
  },
  {
   "cell_type": "markdown",
   "metadata": {},
   "source": [
    "<code style=\"background:yellow;color:black\">We will try k=6, as we really need more clusters to make this meaningful.</code>\n"
   ]
  },
  {
   "cell_type": "code",
   "execution_count": 20,
   "metadata": {},
   "outputs": [],
   "source": [
    "k = 6\n",
    "# as reminders: \n",
    "cluster_vars = ['bathroomcnt', 'bedroomcnt', 'calculatedfinishedsquarefeet']\n",
    "cluster_name = 'area_cluster'"
   ]
  },
  {
   "cell_type": "code",
   "execution_count": 21,
   "metadata": {},
   "outputs": [
    {
     "data": {
      "text/plain": [
       "KMeans(n_clusters=6, random_state=13)"
      ]
     },
     "execution_count": 21,
     "metadata": {},
     "output_type": "execute_result"
    }
   ],
   "source": [
    "# Create kmeans object & fit using training data.\n",
    "prepare.create_clusters(X_train, k, cluster_vars)"
   ]
  },
  {
   "cell_type": "code",
   "execution_count": 22,
   "metadata": {},
   "outputs": [],
   "source": [
    "X = df[['bathroomcnt', 'bedroomcnt', 'calculatedfinishedsquarefeet']]"
   ]
  },
  {
   "cell_type": "code",
   "execution_count": 23,
   "metadata": {},
   "outputs": [],
   "source": [
    "df, X_scaled, scaler, kmeans, centroids = prepare.create_cluster(df, X, 3)"
   ]
  },
  {
   "cell_type": "code",
   "execution_count": 24,
   "metadata": {},
   "outputs": [
    {
     "data": {
      "image/png": "[encoded data removed]",
      "text/plain": [
       "<Figure size 720x432 with 1 Axes>"
      ]
     },
     "metadata": {
      "needs_background": "light"
     },
     "output_type": "display_data"
    }
   ],
   "source": [
    "prepare.create_scatter_plot('bathroomcnt', 'calculatedfinishedsquarefeet',df,kmeans, X_scaled, scaler)"
   ]
  },
  {
   "cell_type": "code",
   "execution_count": 25,
   "metadata": {},
   "outputs": [
    {
     "data": {
      "image/png": "[encoded data removed]",
      "text/plain": [
       "<Figure size 720x432 with 1 Axes>"
      ]
     },
     "metadata": {
      "needs_background": "light"
     },
     "output_type": "display_data"
    }
   ],
   "source": [
    "prepare.create_scatter_plot('bathroomcnt', 'bedroomcnt',df,kmeans, X_scaled, scaler)"
   ]
  },
  {
   "cell_type": "code",
   "execution_count": 26,
   "metadata": {},
   "outputs": [
    {
     "data": {
      "image/png": "[encoded data removed]",
      "text/plain": [
       "<Figure size 720x432 with 1 Axes>"
      ]
     },
     "metadata": {
      "needs_background": "light"
     },
     "output_type": "display_data"
    }
   ],
   "source": [
    "prepare.create_scatter_plot('bedroomcnt', 'calculatedfinishedsquarefeet',df,kmeans, X_scaled, scaler)"
   ]
  },
  {
   "cell_type": "markdown",
   "metadata": {},
   "source": [
    "<code style=\"background:yellow;color:black\">Explore Scatter Plot Takeaways:</code>\n",
    "\n",
    "- There are 3 distinct clusters when looking at:\n",
    "    - bathroomcnt\n",
    "    - bedroomcnt\n",
    "    - calculatedfinishedsquarefeet\n",
    "    - Target: logerror\n",
    "    \n",
    "<br />        \n",
    "\n",
    "- The 3 distinct clusters look to be: \n",
    "    - <font color=orange>Orange</font> **The Middle Class Bucket** where we have about: \n",
    "        - 1-4 bedrooms\n",
    "        - 1-3 bathrooms\n",
    "        - 2,000 calcualted finished square feet\n",
    "    - <font color=blue>Blue</font> **The Luxury Bucket** where we have about: \n",
    "        - 2-5 bedrooms\n",
    "        - 1-4 bathrooms\n",
    "        - 4,000 calcualted finished square feet\n",
    "    - <font color=green>Green</font> **The Opulence Bucket** where we have about: \n",
    "        - 3-7 bedrooms\n",
    "        - 3-7 bathrooms\n",
    "        - 8,000 calcualted finished square feet"
   ]
  },
  {
   "cell_type": "markdown",
   "metadata": {},
   "source": [
    "---"
   ]
  },
  {
   "cell_type": "code",
   "execution_count": 27,
   "metadata": {},
   "outputs": [
    {
     "data": {
      "text/plain": [
       "(52120, 19)"
      ]
     },
     "execution_count": 27,
     "metadata": {},
     "output_type": "execute_result"
    }
   ],
   "source": [
    "# checking the shape: \n",
    "df.shape"
   ]
  },
  {
   "cell_type": "code",
   "execution_count": 28,
   "metadata": {},
   "outputs": [],
   "source": [
    "# split the data\n",
    "train, validate, test = prepare.splits(df)"
   ]
  },
  {
   "cell_type": "code",
   "execution_count": 29,
   "metadata": {},
   "outputs": [
    {
     "data": {
      "text/plain": [
       "((29187, 19), (12509, 19), (10424, 19))"
      ]
     },
     "execution_count": 29,
     "metadata": {},
     "output_type": "execute_result"
    }
   ],
   "source": [
    "# checking the shape of the split datasets: \n",
    "train.shape, validate.shape, test.shape"
   ]
  },
  {
   "cell_type": "code",
   "execution_count": 30,
   "metadata": {},
   "outputs": [],
   "source": [
    "# X and Y \n",
    "X_train = train[['logerror','bathroomcnt', 'bedroomcnt', 'calculatedfinishedsquarefeet']]\n",
    "y_train = train[['logerror','bathroomcnt', 'bedroomcnt', 'calculatedfinishedsquarefeet']]\n",
    "\n",
    "X_validate = validate[['logerror','bathroomcnt', 'bedroomcnt', 'calculatedfinishedsquarefeet']]\n",
    "y_validate = validate[['logerror','bathroomcnt', 'bedroomcnt', 'calculatedfinishedsquarefeet']]\n",
    "\n",
    "X_test = test[['logerror','bathroomcnt', 'bedroomcnt', 'calculatedfinishedsquarefeet']]\n",
    "y_test = test[['logerror','bathroomcnt', 'bedroomcnt', 'calculatedfinishedsquarefeet']]"
   ]
  },
  {
   "cell_type": "code",
   "execution_count": 31,
   "metadata": {},
   "outputs": [],
   "source": [
    "from sklearn.preprocessing import MinMaxScaler\n",
    "from prepare import Min_Max_Scaler"
   ]
  },
  {
   "cell_type": "code",
   "execution_count": 32,
   "metadata": {},
   "outputs": [],
   "source": [
    "#Min_Max_Scaler\n",
    "X_train_scaled, X_validate_scaled, X_test_scaled = prepare.Min_Max_Scaler(X_train, X_validate, X_test)"
   ]
  },
  {
   "cell_type": "code",
   "execution_count": 33,
   "metadata": {},
   "outputs": [
    {
     "data": {
      "text/html": [
       "<div>\n",
       "<style scoped>\n",
       "    .dataframe tbody tr th:only-of-type {\n",
       "        vertical-align: middle;\n",
       "    }\n",
       "\n",
       "    .dataframe tbody tr th {\n",
       "        vertical-align: top;\n",
       "    }\n",
       "\n",
       "    .dataframe thead th {\n",
       "        text-align: right;\n",
       "    }\n",
       "</style>\n",
       "<table border=\"1\" class=\"dataframe\">\n",
       "  <thead>\n",
       "    <tr style=\"text-align: right;\">\n",
       "      <th></th>\n",
       "      <th>logerror</th>\n",
       "      <th>bathroomcnt</th>\n",
       "      <th>bedroomcnt</th>\n",
       "      <th>calculatedfinishedsquarefeet</th>\n",
       "    </tr>\n",
       "  </thead>\n",
       "  <tbody>\n",
       "    <tr>\n",
       "      <th>16393</th>\n",
       "      <td>0.43</td>\n",
       "      <td>0.17</td>\n",
       "      <td>0.33</td>\n",
       "      <td>0.15</td>\n",
       "    </tr>\n",
       "    <tr>\n",
       "      <th>21412</th>\n",
       "      <td>0.43</td>\n",
       "      <td>0.33</td>\n",
       "      <td>0.33</td>\n",
       "      <td>0.20</td>\n",
       "    </tr>\n",
       "    <tr>\n",
       "      <th>2597</th>\n",
       "      <td>0.45</td>\n",
       "      <td>0.00</td>\n",
       "      <td>0.33</td>\n",
       "      <td>0.11</td>\n",
       "    </tr>\n",
       "    <tr>\n",
       "      <th>49861</th>\n",
       "      <td>0.42</td>\n",
       "      <td>0.17</td>\n",
       "      <td>0.33</td>\n",
       "      <td>0.13</td>\n",
       "    </tr>\n",
       "    <tr>\n",
       "      <th>5396</th>\n",
       "      <td>0.43</td>\n",
       "      <td>0.50</td>\n",
       "      <td>0.50</td>\n",
       "      <td>0.23</td>\n",
       "    </tr>\n",
       "  </tbody>\n",
       "</table>\n",
       "</div>"
      ],
      "text/plain": [
       "       logerror  bathroomcnt  bedroomcnt  calculatedfinishedsquarefeet\n",
       "16393      0.43         0.17        0.33                          0.15\n",
       "21412      0.43         0.33        0.33                          0.20\n",
       "2597       0.45         0.00        0.33                          0.11\n",
       "49861      0.42         0.17        0.33                          0.13\n",
       "5396       0.43         0.50        0.50                          0.23"
      ]
     },
     "execution_count": 33,
     "metadata": {},
     "output_type": "execute_result"
    }
   ],
   "source": [
    "# Look at X_train\n",
    "X_train_scaled.head()"
   ]
  },
  {
   "cell_type": "markdown",
   "metadata": {},
   "source": [
    "**Takeaways**\n",
    "- Data is cleaned \n",
    "- Data is split into train, validate and test\n",
    "- Data is scaled"
   ]
  },
  {
   "cell_type": "markdown",
   "metadata": {},
   "source": [
    "**Statistical Tests**\n",
    "- 'bathroomcnt', 'bedroomcnt', 'calculatedfinishedsquarefeet'\n",
    "    - Correlation Test\n",
    "    - T-Test"
   ]
  },
  {
   "cell_type": "code",
   "execution_count": 34,
   "metadata": {},
   "outputs": [
    {
     "name": "stdout",
     "output_type": "stream",
     "text": [
      "We reject the null hypothesis.\n",
      "We can move forward with the alternative hypothesis: There is a correlation  between calculatedfinishedsquarefeet and its logerror.\n"
     ]
    }
   ],
   "source": [
    "#Calculated Finished Square Feet x Logerror\n",
    "null_hypothesis = \"There is no correlation between calculatedfinishedsquarefeet and its logerror.\"\n",
    "alternative_hypothesis = \"There is a correlation  between calculatedfinishedsquarefeet and its logerror.\"\n",
    "confidence_level = .95\n",
    "alpha = 1 - confidence_level\n",
    "\n",
    "corr, p = stats.pearsonr(train.calculatedfinishedsquarefeet, train.logerror)\n",
    "\n",
    "if p < alpha:\n",
    "    print(\"We reject the null hypothesis.\")\n",
    "    print(\"We can move forward with the alternative hypothesis:\", alternative_hypothesis)\n",
    "else:\n",
    "    print(\"We fail to reject the null hypothesis\")\n",
    "    print(\"Not enough evidence to support\", alternative_hypothesis)"
   ]
  },
  {
   "cell_type": "code",
   "execution_count": 35,
   "metadata": {},
   "outputs": [],
   "source": [
    "#t-test on entire train set for square feet\n",
    "t, p = stats.ttest_ind(train.logerror,train.calculatedfinishedsquarefeet, equal_var=False)"
   ]
  },
  {
   "cell_type": "code",
   "execution_count": 36,
   "metadata": {},
   "outputs": [
    {
     "name": "stdout",
     "output_type": "stream",
     "text": [
      "t= -348.11\n",
      "p= 0.00\n",
      "alpha= 0.05\n"
     ]
    }
   ],
   "source": [
    "print(\"t= {0:.2f}\".format(t))\n",
    "print(\"p= {0:.2f}\".format(p))\n",
    "print(\"alpha= {0:.2f}\".format(alpha))"
   ]
  },
  {
   "cell_type": "code",
   "execution_count": 37,
   "metadata": {},
   "outputs": [
    {
     "data": {
      "text/plain": [
       "True"
      ]
     },
     "execution_count": 37,
     "metadata": {},
     "output_type": "execute_result"
    }
   ],
   "source": [
    "p <alpha"
   ]
  },
  {
   "cell_type": "code",
   "execution_count": 38,
   "metadata": {},
   "outputs": [
    {
     "name": "stdout",
     "output_type": "stream",
     "text": [
      "We reject the null hypothesis.\n",
      "We can move forward with the alternative hypothesis: There is a correlation between bathroomcnt and its logerror.\n"
     ]
    }
   ],
   "source": [
    "# Bathroomcnt x Logerror\n",
    "null_hypothesis = \"There is no correlation between bathroomcnt and its logerror.\"\n",
    "alternative_hypothesis = \"There is a correlation between bathroomcnt and its logerror.\"\n",
    "confidence_level = .95\n",
    "alpha = 1 - confidence_level\n",
    "\n",
    "corr, p = stats.pearsonr(train.bathroomcnt, train.logerror)\n",
    "\n",
    "if p < alpha:\n",
    "    print(\"We reject the null hypothesis.\")\n",
    "    print(\"We can move forward with the alternative hypothesis:\", alternative_hypothesis)\n",
    "else:\n",
    "    print(\"We fail to reject the null hypothesis\")\n",
    "    print(\"Not enough evidence to support\", alternative_hypothesis)"
   ]
  },
  {
   "cell_type": "code",
   "execution_count": 39,
   "metadata": {},
   "outputs": [],
   "source": [
    "#t-test on entire train set for county code\n",
    "t, p = stats.ttest_ind(train.logerror,train.bathroomcnt, equal_var=False)"
   ]
  },
  {
   "cell_type": "code",
   "execution_count": 40,
   "metadata": {},
   "outputs": [
    {
     "name": "stdout",
     "output_type": "stream",
     "text": [
      "t= -390.83\n",
      "p= 0.00\n",
      "alpha= 0.05\n"
     ]
    }
   ],
   "source": [
    "print(\"t= {0:.2f}\".format(t))\n",
    "print(\"p= {0:.2f}\".format(p))\n",
    "print(\"alpha= {0:.2f}\".format(alpha))"
   ]
  },
  {
   "cell_type": "code",
   "execution_count": 41,
   "metadata": {},
   "outputs": [
    {
     "data": {
      "text/plain": [
       "True"
      ]
     },
     "execution_count": 41,
     "metadata": {},
     "output_type": "execute_result"
    }
   ],
   "source": [
    "p <alpha"
   ]
  },
  {
   "cell_type": "code",
   "execution_count": 42,
   "metadata": {},
   "outputs": [
    {
     "name": "stdout",
     "output_type": "stream",
     "text": [
      "We reject the null hypothesis.\n",
      "We can move forward with the alternative hypothesis: There is a correlation between bedroomcnt and its logerror.\n"
     ]
    }
   ],
   "source": [
    "# Bedroomcnt x Logerror\n",
    "null_hypothesis = \"There is no correlation between bedroomcnt and its logerror.\"\n",
    "alternative_hypothesis = \"There is a correlation between bedroomcnt and its logerror.\"\n",
    "confidence_level = .95\n",
    "alpha = 1 - confidence_level\n",
    "\n",
    "corr, p = stats.pearsonr(train.bedroomcnt, train.logerror)\n",
    "\n",
    "if p < alpha:\n",
    "    print(\"We reject the null hypothesis.\")\n",
    "    print(\"We can move forward with the alternative hypothesis:\", alternative_hypothesis)\n",
    "else:\n",
    "    print(\"We fail to reject the null hypothesis\")\n",
    "    print(\"Not enough evidence to support\", alternative_hypothesis)"
   ]
  },
  {
   "cell_type": "code",
   "execution_count": 43,
   "metadata": {},
   "outputs": [],
   "source": [
    "#t-test on entire train set for county code\n",
    "t, p = stats.ttest_ind(train.logerror,train.bedroomcnt, equal_var=False)"
   ]
  },
  {
   "cell_type": "code",
   "execution_count": 44,
   "metadata": {},
   "outputs": [
    {
     "name": "stdout",
     "output_type": "stream",
     "text": [
      "t= -601.94\n",
      "p= 0.00\n",
      "alpha= 0.05\n"
     ]
    }
   ],
   "source": [
    "print(\"t= {0:.2f}\".format(t))\n",
    "print(\"p= {0:.2f}\".format(p))\n",
    "print(\"alpha= {0:.2f}\".format(alpha))"
   ]
  },
  {
   "cell_type": "code",
   "execution_count": 45,
   "metadata": {},
   "outputs": [
    {
     "data": {
      "text/plain": [
       "True"
      ]
     },
     "execution_count": 45,
     "metadata": {},
     "output_type": "execute_result"
    }
   ],
   "source": [
    "p <alpha"
   ]
  },
  {
   "cell_type": "markdown",
   "metadata": {},
   "source": [
    "<code style=\"background:yellow;color:black\">Explore Statistical Test Takeaways:</code>\n",
    "\n",
    "- We reject the null hypothesis for the following: :\n",
    "    - Calculated Finished Square Feet x Logerror\n",
    "    - Bathroomcnt x Logerror\n",
    "    - Bedroomcnt x Logerror"
   ]
  },
  {
   "cell_type": "markdown",
   "metadata": {},
   "source": [
    "# Modeling"
   ]
  },
  {
   "cell_type": "code",
   "execution_count": 46,
   "metadata": {},
   "outputs": [
    {
     "data": {
      "text/html": [
       "<div>\n",
       "<style scoped>\n",
       "    .dataframe tbody tr th:only-of-type {\n",
       "        vertical-align: middle;\n",
       "    }\n",
       "\n",
       "    .dataframe tbody tr th {\n",
       "        vertical-align: top;\n",
       "    }\n",
       "\n",
       "    .dataframe thead th {\n",
       "        text-align: right;\n",
       "    }\n",
       "</style>\n",
       "<table border=\"1\" class=\"dataframe\">\n",
       "  <thead>\n",
       "    <tr style=\"text-align: right;\">\n",
       "      <th></th>\n",
       "      <th>logerror</th>\n",
       "      <th>bathroomcnt</th>\n",
       "      <th>bedroomcnt</th>\n",
       "      <th>calculatedfinishedsquarefeet</th>\n",
       "    </tr>\n",
       "  </thead>\n",
       "  <tbody>\n",
       "    <tr>\n",
       "      <th>16393</th>\n",
       "      <td>0.43</td>\n",
       "      <td>0.17</td>\n",
       "      <td>0.33</td>\n",
       "      <td>0.15</td>\n",
       "    </tr>\n",
       "    <tr>\n",
       "      <th>21412</th>\n",
       "      <td>0.43</td>\n",
       "      <td>0.33</td>\n",
       "      <td>0.33</td>\n",
       "      <td>0.20</td>\n",
       "    </tr>\n",
       "    <tr>\n",
       "      <th>2597</th>\n",
       "      <td>0.45</td>\n",
       "      <td>0.00</td>\n",
       "      <td>0.33</td>\n",
       "      <td>0.11</td>\n",
       "    </tr>\n",
       "    <tr>\n",
       "      <th>49861</th>\n",
       "      <td>0.42</td>\n",
       "      <td>0.17</td>\n",
       "      <td>0.33</td>\n",
       "      <td>0.13</td>\n",
       "    </tr>\n",
       "    <tr>\n",
       "      <th>5396</th>\n",
       "      <td>0.43</td>\n",
       "      <td>0.50</td>\n",
       "      <td>0.50</td>\n",
       "      <td>0.23</td>\n",
       "    </tr>\n",
       "  </tbody>\n",
       "</table>\n",
       "</div>"
      ],
      "text/plain": [
       "       logerror  bathroomcnt  bedroomcnt  calculatedfinishedsquarefeet\n",
       "16393      0.43         0.17        0.33                          0.15\n",
       "21412      0.43         0.33        0.33                          0.20\n",
       "2597       0.45         0.00        0.33                          0.11\n",
       "49861      0.42         0.17        0.33                          0.13\n",
       "5396       0.43         0.50        0.50                          0.23"
      ]
     },
     "execution_count": 46,
     "metadata": {},
     "output_type": "execute_result"
    }
   ],
   "source": [
    "# X_train_scaled dataframe\n",
    "X_train_scaled.head()"
   ]
  },
  {
   "cell_type": "code",
   "execution_count": 47,
   "metadata": {},
   "outputs": [],
   "source": [
    "# Baseline\n",
    "# Need to have y_train and y_validate to be dataframes to append the new columns with predicted values. \n",
    "y_train = pd.DataFrame(y_train)\n",
    "y_validate = pd.DataFrame(y_validate)"
   ]
  },
  {
   "cell_type": "code",
   "execution_count": 48,
   "metadata": {},
   "outputs": [],
   "source": [
    "# Predict logerror_mean\n",
    "\n",
    "#predicted mean will be the mean of logerror column\n",
    "logerror_pred_mean = y_train['logerror'].mean()\n",
    "\n",
    "#new column created\n",
    "y_train['logerror_pred_mean'] = logerror_pred_mean\n",
    "y_validate['logerror_pred_mean'] = logerror_pred_mean"
   ]
  },
  {
   "cell_type": "code",
   "execution_count": 49,
   "metadata": {},
   "outputs": [
    {
     "data": {
      "text/html": [
       "<div>\n",
       "<style scoped>\n",
       "    .dataframe tbody tr th:only-of-type {\n",
       "        vertical-align: middle;\n",
       "    }\n",
       "\n",
       "    .dataframe tbody tr th {\n",
       "        vertical-align: top;\n",
       "    }\n",
       "\n",
       "    .dataframe thead th {\n",
       "        text-align: right;\n",
       "    }\n",
       "</style>\n",
       "<table border=\"1\" class=\"dataframe\">\n",
       "  <thead>\n",
       "    <tr style=\"text-align: right;\">\n",
       "      <th></th>\n",
       "      <th>logerror</th>\n",
       "      <th>bathroomcnt</th>\n",
       "      <th>bedroomcnt</th>\n",
       "      <th>calculatedfinishedsquarefeet</th>\n",
       "      <th>logerror_pred_mean</th>\n",
       "    </tr>\n",
       "  </thead>\n",
       "  <tbody>\n",
       "    <tr>\n",
       "      <th>16393</th>\n",
       "      <td>-0.00</td>\n",
       "      <td>2.00</td>\n",
       "      <td>3.00</td>\n",
       "      <td>1,650.00</td>\n",
       "      <td>0.02</td>\n",
       "    </tr>\n",
       "    <tr>\n",
       "      <th>21412</th>\n",
       "      <td>-0.00</td>\n",
       "      <td>3.00</td>\n",
       "      <td>3.00</td>\n",
       "      <td>2,115.00</td>\n",
       "      <td>0.02</td>\n",
       "    </tr>\n",
       "    <tr>\n",
       "      <th>2597</th>\n",
       "      <td>0.12</td>\n",
       "      <td>1.00</td>\n",
       "      <td>3.00</td>\n",
       "      <td>1,196.00</td>\n",
       "      <td>0.02</td>\n",
       "    </tr>\n",
       "    <tr>\n",
       "      <th>49861</th>\n",
       "      <td>-0.03</td>\n",
       "      <td>2.00</td>\n",
       "      <td>3.00</td>\n",
       "      <td>1,419.00</td>\n",
       "      <td>0.02</td>\n",
       "    </tr>\n",
       "    <tr>\n",
       "      <th>5396</th>\n",
       "      <td>0.02</td>\n",
       "      <td>4.00</td>\n",
       "      <td>4.00</td>\n",
       "      <td>2,399.00</td>\n",
       "      <td>0.02</td>\n",
       "    </tr>\n",
       "  </tbody>\n",
       "</table>\n",
       "</div>"
      ],
      "text/plain": [
       "       logerror  bathroomcnt  bedroomcnt  calculatedfinishedsquarefeet  \\\n",
       "16393     -0.00         2.00        3.00                      1,650.00   \n",
       "21412     -0.00         3.00        3.00                      2,115.00   \n",
       "2597       0.12         1.00        3.00                      1,196.00   \n",
       "49861     -0.03         2.00        3.00                      1,419.00   \n",
       "5396       0.02         4.00        4.00                      2,399.00   \n",
       "\n",
       "       logerror_pred_mean  \n",
       "16393                0.02  \n",
       "21412                0.02  \n",
       "2597                 0.02  \n",
       "49861                0.02  \n",
       "5396                 0.02  "
      ]
     },
     "execution_count": 49,
     "metadata": {},
     "output_type": "execute_result"
    }
   ],
   "source": [
    "y_train.head()"
   ]
  },
  {
   "cell_type": "code",
   "execution_count": 50,
   "metadata": {},
   "outputs": [
    {
     "name": "stdout",
     "output_type": "stream",
     "text": [
      "RMSE using Mean\n",
      "Train/In-Sample:  0.17 \n",
      "Validate/Out-of-Sample:  0.18\n"
     ]
    }
   ],
   "source": [
    "# RMSE of logerror_pred_mean\n",
    "\n",
    "#root mean squared error of the predicted mean\n",
    "rmse_train = mean_squared_error(y_train.logerror, y_train.logerror_pred_mean)**(1/2)\n",
    "rmse_validate = mean_squared_error(y_validate.logerror, y_validate.logerror_pred_mean)**(1/2)\n",
    "print(\"RMSE using Mean\\nTrain/In-Sample: \", round(rmse_train, 2), \n",
    "      \"\\nValidate/Out-of-Sample: \", round(rmse_validate, 2))"
   ]
  },
  {
   "cell_type": "code",
   "execution_count": 51,
   "metadata": {},
   "outputs": [
    {
     "data": {
      "text/html": [
       "<div>\n",
       "<style scoped>\n",
       "    .dataframe tbody tr th:only-of-type {\n",
       "        vertical-align: middle;\n",
       "    }\n",
       "\n",
       "    .dataframe tbody tr th {\n",
       "        vertical-align: top;\n",
       "    }\n",
       "\n",
       "    .dataframe thead th {\n",
       "        text-align: right;\n",
       "    }\n",
       "</style>\n",
       "<table border=\"1\" class=\"dataframe\">\n",
       "  <thead>\n",
       "    <tr style=\"text-align: right;\">\n",
       "      <th></th>\n",
       "      <th>model</th>\n",
       "      <th>rmse_train</th>\n",
       "      <th>rmse_validate</th>\n",
       "      <th>r^2_validate</th>\n",
       "    </tr>\n",
       "  </thead>\n",
       "  <tbody>\n",
       "    <tr>\n",
       "      <th>0</th>\n",
       "      <td>mean_baseline</td>\n",
       "      <td>0.17</td>\n",
       "      <td>0.18</td>\n",
       "      <td>0.00</td>\n",
       "    </tr>\n",
       "  </tbody>\n",
       "</table>\n",
       "</div>"
      ],
      "text/plain": [
       "           model  rmse_train  rmse_validate  r^2_validate\n",
       "0  mean_baseline        0.17           0.18          0.00"
      ]
     },
     "execution_count": 51,
     "metadata": {},
     "output_type": "execute_result"
    }
   ],
   "source": [
    "#create a dataframe to make data easier to visualize/understand\n",
    "metric_df = pd.DataFrame(data=[{\n",
    "    'model': 'mean_baseline',\n",
    "    'rmse_train': rmse_train,\n",
    "    'rmse_validate': rmse_validate,\n",
    "    'r^2_validate': explained_variance_score(y_validate.logerror, y_validate.logerror_pred_mean)}])\n",
    "\n",
    "metric_df\n",
    "# baseline"
   ]
  },
  {
   "cell_type": "code",
   "execution_count": 52,
   "metadata": {},
   "outputs": [],
   "source": [
    "y_train = pd.DataFrame(y_train)\n",
    "y_validate = pd.DataFrame(y_validate)\n",
    "\n",
    "#Predict mean of logerror\n",
    "logerror_pred_mean = y_train.logerror.mean()\n",
    "y_train['logerror_pred_mean'] = logerror_pred_mean\n",
    "y_validate['logerror_pred_mean'] = logerror_pred_mean\n",
    "\n",
    "#Compute logerror_pred_median\n",
    "logerror_pred_median = y_train.logerror.median()\n",
    "y_train['logerror_pred_median'] = logerror_pred_median\n",
    "y_validate['logerror_pred_median'] = logerror_pred_median"
   ]
  },
  {
   "cell_type": "code",
   "execution_count": 53,
   "metadata": {},
   "outputs": [],
   "source": [
    "import model"
   ]
  },
  {
   "cell_type": "code",
   "execution_count": 92,
   "metadata": {},
   "outputs": [],
   "source": [
    "#Modeling Functions\n",
    "def residuals(actual, predicted):\n",
    "    return actual - predicted\n",
    "\n",
    "def sse(actual, predicted):\n",
    "    return (residuals(actual, predicted) **2).sum()\n",
    "\n",
    "def mse(actual, predicted):\n",
    "    n = actual.shape[0]\n",
    "    return sse(actual, predicted) / n\n",
    "\n",
    "def rmse(actual, predicted):\n",
    "    return math.sqrt(mse(actual, predicted))\n",
    "\n",
    "\n",
    "def evaluation_metrics_mean(actual):\n",
    "    predicted = actual.mean()\n",
    "    return {'sse': round(sse(actual, predicted)), \n",
    "            'mse': round(mse(actual, predicted)), \n",
    "            'rmse': round(rmse(actual, predicted))}\n",
    "\n",
    "def evaluation_metrics_median(actual):\n",
    "    predicted = actual.median()\n",
    "    return {'sse': round(sse(actual, predicted)), \n",
    "            'mse': round(mse(actual, predicted)), \n",
    "            'rmse': round(rmse(actual, predicted))}"
   ]
  },
  {
   "cell_type": "code",
   "execution_count": 95,
   "metadata": {},
   "outputs": [
    {
     "name": "stdout",
     "output_type": "stream",
     "text": [
      "{'sse': 853.7546478950901, 'mse': 0.02925119566571042, 'rmse': 0.1710298092898148}\n",
      "{'sse': 854, 'mse': 0, 'rmse': 0}\n"
     ]
    }
   ],
   "source": [
    "#Use the mean to evaluate baseline model\n",
    "print(model.evaluation_metrics_mean(y_train.logerror))\n",
    "print(evaluation_metrics_mean(y_train.logerror))"
   ]
  },
  {
   "cell_type": "code",
   "execution_count": 55,
   "metadata": {},
   "outputs": [
    {
     "data": {
      "text/plain": [
       "Index(['Unnamed: 0', 'parcelid', 'logerror', 'bathroomcnt', 'bedroomcnt',\n",
       "       'calculatedfinishedsquarefeet', 'fips', 'latitude', 'longitude',\n",
       "       'lotsizesquarefeet', 'regionidcity', 'regionidcounty', 'regionidzip',\n",
       "       'yearbuilt', 'structuretaxvaluedollarcnt', 'taxvaluedollarcnt',\n",
       "       'landtaxvaluedollarcnt', 'taxamount', 'cluster'],\n",
       "      dtype='object')"
      ]
     },
     "execution_count": 55,
     "metadata": {},
     "output_type": "execute_result"
    }
   ],
   "source": [
    "# before drop of target variable \n",
    "train.columns"
   ]
  },
  {
   "cell_type": "code",
   "execution_count": 56,
   "metadata": {},
   "outputs": [],
   "source": [
    "# dropping target variable 'logerror' from the train data set\n",
    "train = train.drop(columns=['logerror'])"
   ]
  },
  {
   "cell_type": "code",
   "execution_count": 57,
   "metadata": {},
   "outputs": [
    {
     "data": {
      "text/plain": [
       "Index(['Unnamed: 0', 'parcelid', 'bathroomcnt', 'bedroomcnt',\n",
       "       'calculatedfinishedsquarefeet', 'fips', 'latitude', 'longitude',\n",
       "       'lotsizesquarefeet', 'regionidcity', 'regionidcounty', 'regionidzip',\n",
       "       'yearbuilt', 'structuretaxvaluedollarcnt', 'taxvaluedollarcnt',\n",
       "       'landtaxvaluedollarcnt', 'taxamount', 'cluster'],\n",
       "      dtype='object')"
      ]
     },
     "execution_count": 57,
     "metadata": {},
     "output_type": "execute_result"
    }
   ],
   "source": [
    "# the target variable 'logerror' is no longer within the train columns\n",
    "train.columns"
   ]
  },
  {
   "cell_type": "code",
   "execution_count": 58,
   "metadata": {},
   "outputs": [
    {
     "name": "stdout",
     "output_type": "stream",
     "text": [
      "<class 'pandas.core.frame.DataFrame'>\n",
      "Int64Index: 29187 entries, 16393 to 24876\n",
      "Data columns (total 18 columns):\n",
      " #   Column                        Non-Null Count  Dtype  \n",
      "---  ------                        --------------  -----  \n",
      " 0   Unnamed: 0                    29187 non-null  int64  \n",
      " 1   parcelid                      29187 non-null  int64  \n",
      " 2   bathroomcnt                   29187 non-null  float64\n",
      " 3   bedroomcnt                    29187 non-null  float64\n",
      " 4   calculatedfinishedsquarefeet  29187 non-null  float64\n",
      " 5   fips                          29187 non-null  float64\n",
      " 6   latitude                      29187 non-null  float64\n",
      " 7   longitude                     29187 non-null  float64\n",
      " 8   lotsizesquarefeet             29187 non-null  float64\n",
      " 9   regionidcity                  29187 non-null  float64\n",
      " 10  regionidcounty                29187 non-null  float64\n",
      " 11  regionidzip                   29187 non-null  float64\n",
      " 12  yearbuilt                     29187 non-null  float64\n",
      " 13  structuretaxvaluedollarcnt    29187 non-null  float64\n",
      " 14  taxvaluedollarcnt             29187 non-null  float64\n",
      " 15  landtaxvaluedollarcnt         29187 non-null  float64\n",
      " 16  taxamount                     29187 non-null  float64\n",
      " 17  cluster                       29187 non-null  object \n",
      "dtypes: float64(15), int64(2), object(1)\n",
      "memory usage: 4.2+ MB\n"
     ]
    }
   ],
   "source": [
    "# need to convert floats to into int\n",
    "train.info()"
   ]
  },
  {
   "cell_type": "markdown",
   "metadata": {},
   "source": [
    "**Tweedie Regressor Model**"
   ]
  },
  {
   "cell_type": "code",
   "execution_count": 100,
   "metadata": {},
   "outputs": [
    {
     "name": "stdout",
     "output_type": "stream",
     "text": [
      "RMSE for GLM using Tweedie, power=1 & alpha=0\n",
      "Training/In-Sample:  0.17102980928981482 \n",
      "Validation/Out-of-Sample:  0.17649318221099203\n"
     ]
    }
   ],
   "source": [
    "# create the model object\n",
    "glm = TweedieRegressor(power=-1, alpha=0)\n",
    "\n",
    "\n",
    "# fit the model to our training data. We must specify the column in y_train, \n",
    "# convert to a dataframe from a series \n",
    "glm.fit(X_train_scaled, y_train.logerror)\n",
    "\n",
    "# predict train\n",
    "y_train['logerror_pred_glm'] = glm.predict(X_train_scaled)\n",
    "\n",
    "# evaluate: rmse\n",
    "rmse_train = mean_squared_error(y_train.logerror, y_train.logerror_pred_glm) ** (1/2)\n",
    "\n",
    "# predict validate\n",
    "y_validate['logerror_pred_glm'] = glm.predict(X_validate_scaled)\n",
    "\n",
    "# evaluate: rmse\n",
    "rmse_validate = mean_squared_error(y_validate.logerror, y_validate.logerror_pred_glm) ** (1/2)\n",
    "\n",
    "print(\"RMSE for GLM using Tweedie, power=1 & alpha=0\\nTraining/In-Sample: \", rmse_train, \n",
    "      \"\\nValidation/Out-of-Sample: \", rmse_validate)"
   ]
  },
  {
   "cell_type": "markdown",
   "metadata": {},
   "source": [
    "**OLS Model**"
   ]
  },
  {
   "cell_type": "code",
   "execution_count": 61,
   "metadata": {},
   "outputs": [
    {
     "name": "stdout",
     "output_type": "stream",
     "text": [
      "RMSE for OLS using LinearRegression\n",
      "Training/In-Sample:  3.8429125718062074e-16 \n",
      "Validation/Out-of-Sample:  3.860532209485867e-16\n"
     ]
    }
   ],
   "source": [
    "# create the model object\n",
    "lm = LinearRegression(normalize=True)\n",
    "\n",
    "# fit the model to our training data. We must specify the column in y_train, \n",
    "# convert to a dataframe from a series \n",
    "lm.fit(X_train_scaled, y_train.logerror)\n",
    "\n",
    "\n",
    "# predict train\n",
    "y_train['logerror_pred_lm'] = lm.predict(X_train_scaled)\n",
    "\n",
    "# evaluate: rmse\n",
    "rmse_train = mean_squared_error(y_train.logerror, y_train.logerror_pred_lm) ** (1/2)\n",
    "\n",
    "\n",
    "# predict validate\n",
    "y_validate['logerror_pred_lm'] = lm.predict(X_validate_scaled)\n",
    "\n",
    "# evaluate: rmse\n",
    "rmse_validate = mean_squared_error(y_validate.logerror, y_validate.logerror_pred_lm) ** (1/2)\n",
    "\n",
    "print(\"RMSE for OLS using LinearRegression\\nTraining/In-Sample: \", rmse_train, \n",
    "      \"\\nValidation/Out-of-Sample: \", rmse_validate)"
   ]
  },
  {
   "cell_type": "markdown",
   "metadata": {},
   "source": [
    "**Polynomial Regression**"
   ]
  },
  {
   "cell_type": "code",
   "execution_count": 101,
   "metadata": {},
   "outputs": [
    {
     "name": "stdout",
     "output_type": "stream",
     "text": [
      "RMSE for Polynomial Model, degrees=2\n",
      "Training/In-Sample:  0.0 \n",
      "Validation/Out-of-Sample:  1.4903708940477828e-31\n"
     ]
    }
   ],
   "source": [
    "# make the polynomial features to get a new set of features\n",
    "pf = PolynomialFeatures(degree=2)\n",
    "\n",
    "# fit and transform X_train_scaled\n",
    "X_train_degree2 = pf.fit_transform(X_train_scaled)\n",
    "\n",
    "# transform X_validate_scaled & X_test_scaled\n",
    "X_validate_degree2 = pf.transform(X_validate_scaled)\n",
    "X_test_degree2 =  pf.transform(X_test_scaled)\n",
    "\n",
    "\n",
    "## LinearRegression ##\n",
    "# create the model object\n",
    "lm2 = LinearRegression(normalize=True)\n",
    "\n",
    "# fit the model to our training data. We must specify the column in y_train, \n",
    "# convert to a dataframe from a series \n",
    "lm2.fit(X_train_scaled, y_train.logerror)\n",
    "\n",
    "# predict train\n",
    "y_train['logerror_pred_lm2'] = lm2.predict(X_train_scaled)\n",
    "\n",
    "# evaluate: rmse\n",
    "rmse_train = mean_squared_error(y_train.logerror, y_train.logerror) ** (1/2)\n",
    "\n",
    "# predict validate\n",
    "y_validate['logerror_pred_lm2'] = lm2.predict(X_validate_scaled)\n",
    "\n",
    "# evaluate: rmse\n",
    "rmse_validate = mean_squared_error(y_validate.logerror, y_validate.logerror_pred_lm2)\n",
    "\n",
    "print(\"RMSE for Polynomial Model, degrees=2\\nTraining/In-Sample: \", rmse_train, \n",
    "      \"\\nValidation/Out-of-Sample: \", rmse_validate)"
   ]
  },
  {
   "cell_type": "markdown",
   "metadata": {},
   "source": [
    "**Laso Lars**"
   ]
  },
  {
   "cell_type": "code",
   "execution_count": 103,
   "metadata": {},
   "outputs": [
    {
     "name": "stdout",
     "output_type": "stream",
     "text": [
      "RMSE for Lasso + Lars\n",
      "Training/In-Sample:  3.8429125718062074e-16 \n",
      "Validation/Out-of-Sample:  3.860532209485867e-16\n"
     ]
    }
   ],
   "source": [
    "# create the model object\n",
    "lars = LassoLars(alpha=1)\n",
    "\n",
    "# fit the model to our training data\n",
    "lars.fit(X_train_scaled, y_train.logerror)\n",
    "\n",
    "# predict train\n",
    "y_train['logerror_pred_lars'] = lars.predict(X_train_scaled)\n",
    "\n",
    "# evaluate: rmse\n",
    "rmse_train = mean_squared_error(y_train.logerror, y_train.logerror_pred_lm) ** (1/2)\n",
    "\n",
    "# predict validate\n",
    "y_validate['logerror_pred_lars'] = lars.predict(X_validate_scaled)\n",
    "\n",
    "# evaluate: rmse\n",
    "rmse_validate = mean_squared_error(y_validate.logerror, y_validate.logerror_pred_lm) ** (1/2)\n",
    "\n",
    "print(\"RMSE for Lasso + Lars\\nTraining/In-Sample: \", rmse_train, \n",
    "      \"\\nValidation/Out-of-Sample: \", rmse_validate)"
   ]
  },
  {
   "cell_type": "markdown",
   "metadata": {},
   "source": [
    "# Takeaways: \n"
   ]
  },
  {
   "cell_type": "markdown",
   "metadata": {},
   "source": [
    "# Model Findings"
   ]
  },
  {
   "cell_type": "code",
   "execution_count": 104,
   "metadata": {},
   "outputs": [
    {
     "name": "stdout",
     "output_type": "stream",
     "text": [
      "RMSE for OLS Model using LinearRegression\n",
      "Out-of-Sample Performance:  3.8565004430528083e-16\n"
     ]
    }
   ],
   "source": [
    "#out of sample evaluation\n",
    "y_test = pd.DataFrame(y_test)\n",
    "\n",
    "# predict on test\n",
    "y_test['logerror_pred_lm'] = lm.predict(X_test_scaled)\n",
    "\n",
    "# evaluate: rmse\n",
    "rmse_test = mean_squared_error(y_test.logerror, y_test.logerror_pred_lm) ** (1/2)\n",
    "\n",
    "print(\"RMSE for OLS Model using LinearRegression\\nOut-of-Sample Performance: \", rmse_test)"
   ]
  },
  {
   "cell_type": "code",
   "execution_count": null,
   "metadata": {},
   "outputs": [],
   "source": []
  }
 ],
 "metadata": {
  "kernelspec": {
   "display_name": "Python 3",
   "language": "python",
   "name": "python3"
  },
  "language_info": {
   "codemirror_mode": {
    "name": "ipython",
    "version": 3
   },
   "file_extension": ".py",
   "mimetype": "text/x-python",
   "name": "python",
   "nbconvert_exporter": "python",
   "pygments_lexer": "ipython3",
   "version": "3.8.5"
  }
 },
 "nbformat": 4,
 "nbformat_minor": 4
}
